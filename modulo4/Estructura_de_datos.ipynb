{
  "nbformat": 4,
  "nbformat_minor": 0,
  "metadata": {
    "colab": {
      "name": "modulo 4.ipynb",
      "provenance": [],
      "include_colab_link": true
    },
    "kernelspec": {
      "name": "python3",
      "display_name": "Python 3"
    },
    "language_info": {
      "name": "python"
    }
  },
  "cells": [
    {
      "cell_type": "markdown",
      "metadata": {
        "id": "view-in-github",
        "colab_type": "text"
      },
      "source": [
        "<a href=\"https://colab.research.google.com/github/Ebert26/PYTHON-sesiones/blob/main/modulo4/Estructura_de_datos.ipynb\" target=\"_parent\"><img src=\"https://colab.research.google.com/assets/colab-badge.svg\" alt=\"Open In Colab\"/></a>"
      ]
    },
    {
      "cell_type": "markdown",
      "source": [
        "<img src=\"https://www.ctic.uni.edu.pe/wp-content/uploads/2022/04/588px-x-348px-web-1.png\" alt=\"HTML5 Icon\" width=\"900\" height=\"350\" >"
      ],
      "metadata": {
        "id": "atsxxNXNyS0i"
      }
    },
    {
      "cell_type": "markdown",
      "source": [
        "<h1 align=center><font size = 5>UNIDAD IV - ESTRUCTURAS DE DATOS\n",
        "</font></h1>\n",
        "\n",
        "---"
      ],
      "metadata": {
        "id": "4p5vLlhHyXK5"
      }
    },
    {
      "cell_type": "markdown",
      "source": [
        "## Tabla de Contenidos\n",
        "\n",
        "<div class=\"alert alert-block alert-info\" style=\"margin-top: 20px\">\n",
        "\n",
        "<font size = 3>\n",
        "    \n",
        "1. <a href=\"#item31\">Trabajando con Listas numéricas</a>\n",
        "2. <a href=\"#item31\">Trabajando con slices</a>  \n",
        "3. <a href=\"#item31\">Tuplas</a>  \n",
        "4. <a href=\"#item31\">Diccionarios</a>  \n",
        "\n",
        "</font>\n",
        "</div>\n",
        "\n",
        "---"
      ],
      "metadata": {
        "id": "y0BfNj-RyguL"
      }
    },
    {
      "cell_type": "markdown",
      "source": [
        "# 1. Trabajando con Listas numéricas"
      ],
      "metadata": {
        "id": "fY5fHyw61UB5"
      }
    },
    {
      "cell_type": "code",
      "execution_count": null,
      "metadata": {
        "id": "A2OxEnshtGJD"
      },
      "outputs": [],
      "source": [
        "numeros = [1, 2, 3, 4, 5]"
      ]
    },
    {
      "cell_type": "code",
      "source": [
        "numeros"
      ],
      "metadata": {
        "id": "BusmC4LB1gI8",
        "colab": {
          "base_uri": "https://localhost:8080/"
        },
        "outputId": "6332d5fa-df8c-406d-c238-5c411e9d1a34"
      },
      "execution_count": null,
      "outputs": [
        {
          "output_type": "execute_result",
          "data": {
            "text/plain": [
              "[1, 2, 3, 4, 5]"
            ]
          },
          "metadata": {},
          "execution_count": 2
        }
      ]
    },
    {
      "cell_type": "markdown",
      "source": [
        "### Usando la función rango"
      ],
      "metadata": {
        "id": "0GbfBGic15oY"
      }
    },
    {
      "cell_type": "code",
      "source": [
        "range(1, 5)"
      ],
      "metadata": {
        "id": "0CtByQBZ2A3Z",
        "colab": {
          "base_uri": "https://localhost:8080/"
        },
        "outputId": "52452944-8a9f-4078-94f7-864cab8ba6e8"
      },
      "execution_count": null,
      "outputs": [
        {
          "output_type": "execute_result",
          "data": {
            "text/plain": [
              "range(1, 5)"
            ]
          },
          "metadata": {},
          "execution_count": 3
        }
      ]
    },
    {
      "cell_type": "code",
      "source": [
        "for value in range(1, 5):\n",
        "    print(value)"
      ],
      "metadata": {
        "id": "HluipgiKyPn4",
        "colab": {
          "base_uri": "https://localhost:8080/"
        },
        "outputId": "cb4ba1fe-4666-48bb-8d2f-a9b4b98ac82c"
      },
      "execution_count": null,
      "outputs": [
        {
          "output_type": "stream",
          "name": "stdout",
          "text": [
            "1\n",
            "2\n",
            "3\n",
            "4\n"
          ]
        }
      ]
    },
    {
      "cell_type": "code",
      "source": [
        "for value in range(1, 6):\n",
        "    print(value)"
      ],
      "metadata": {
        "id": "gPtNEJGW2Jvo",
        "colab": {
          "base_uri": "https://localhost:8080/"
        },
        "outputId": "c815ceaf-b6bd-458c-cb88-049f5a0a37e2"
      },
      "execution_count": null,
      "outputs": [
        {
          "output_type": "stream",
          "name": "stdout",
          "text": [
            "1\n",
            "2\n",
            "3\n",
            "4\n",
            "5\n"
          ]
        }
      ]
    },
    {
      "cell_type": "code",
      "source": [
        "list(range(1,5))"
      ],
      "metadata": {
        "colab": {
          "base_uri": "https://localhost:8080/"
        },
        "id": "2fkrzGnHaH54",
        "outputId": "3b447eea-7175-403c-e3a5-11df10bd17ae"
      },
      "execution_count": null,
      "outputs": [
        {
          "output_type": "execute_result",
          "data": {
            "text/plain": [
              "[1, 2, 3, 4]"
            ]
          },
          "metadata": {},
          "execution_count": 6
        }
      ]
    },
    {
      "cell_type": "code",
      "source": [
        "list(range(15,11,-1))"
      ],
      "metadata": {
        "colab": {
          "base_uri": "https://localhost:8080/"
        },
        "id": "mZMdXxuMa6HC",
        "outputId": "955b13d0-39be-45ee-abc6-9b2ae0dc0be9"
      },
      "execution_count": null,
      "outputs": [
        {
          "output_type": "execute_result",
          "data": {
            "text/plain": [
              "[15, 14, 13, 12]"
            ]
          },
          "metadata": {},
          "execution_count": 9
        }
      ]
    },
    {
      "cell_type": "code",
      "source": [
        "list(range(11,15,-1))"
      ],
      "metadata": {
        "colab": {
          "base_uri": "https://localhost:8080/"
        },
        "id": "eqg_EyWpbmDZ",
        "outputId": "50b601f7-1153-40cd-f9f1-579052948169"
      },
      "execution_count": null,
      "outputs": [
        {
          "output_type": "execute_result",
          "data": {
            "text/plain": [
              "[]"
            ]
          },
          "metadata": {},
          "execution_count": 10
        }
      ]
    },
    {
      "cell_type": "markdown",
      "source": [
        "### Usando range para crear listas de números"
      ],
      "metadata": {
        "id": "KKwKZnLy2XpE"
      }
    },
    {
      "cell_type": "code",
      "source": [
        "numbers = list(range(1, 6))\n",
        "print(numbers)"
      ],
      "metadata": {
        "id": "UBobqcAl2bLs",
        "colab": {
          "base_uri": "https://localhost:8080/"
        },
        "outputId": "682f09e2-0a9e-4e23-b411-320c8ebc0663"
      },
      "execution_count": null,
      "outputs": [
        {
          "output_type": "stream",
          "name": "stdout",
          "text": [
            "[1, 2, 3, 4, 5]\n"
          ]
        }
      ]
    },
    {
      "cell_type": "code",
      "source": [
        "even_numbers = list(range(2, 11, 2))\n",
        "print(even_numbers)"
      ],
      "metadata": {
        "id": "q0peFV6_2iqr",
        "colab": {
          "base_uri": "https://localhost:8080/"
        },
        "outputId": "9330df41-cfaa-45c0-c642-b82eb62e65ff"
      },
      "execution_count": null,
      "outputs": [
        {
          "output_type": "stream",
          "name": "stdout",
          "text": [
            "[2, 4, 6, 8, 10]\n"
          ]
        }
      ]
    },
    {
      "cell_type": "code",
      "source": [
        "squares = []\n",
        "\n",
        "for value in range(1, 11):\n",
        "    square = value ** 2\n",
        "    squares.append(square)\n",
        "    \n",
        "print(squares)"
      ],
      "metadata": {
        "id": "B9Hv0maM2mnU",
        "colab": {
          "base_uri": "https://localhost:8080/"
        },
        "outputId": "5567be7a-b537-458c-bf26-6467260ba466"
      },
      "execution_count": null,
      "outputs": [
        {
          "output_type": "stream",
          "name": "stdout",
          "text": [
            "[1, 4, 9, 16, 25, 36, 49, 64, 81, 100]\n"
          ]
        }
      ]
    },
    {
      "cell_type": "code",
      "source": [
        "squares = []\n",
        "\n",
        "for value in range(1,11):\n",
        "    squares.append(value**2)\n",
        "    \n",
        "print(squares)"
      ],
      "metadata": {
        "id": "nIx-oVSe273S",
        "colab": {
          "base_uri": "https://localhost:8080/"
        },
        "outputId": "c7b5b5e9-8e27-4c38-97fd-e0296943331d"
      },
      "execution_count": null,
      "outputs": [
        {
          "output_type": "stream",
          "name": "stdout",
          "text": [
            "[1, 4, 9, 16, 25, 36, 49, 64, 81, 100]\n"
          ]
        }
      ]
    },
    {
      "cell_type": "markdown",
      "source": [
        "### Estadísticos sencillos de listas"
      ],
      "metadata": {
        "id": "UnVQ75Gz3GkM"
      }
    },
    {
      "cell_type": "code",
      "source": [
        "digits = [1, 2, 3, 4, 5, 6, 7, 8, 9, 0]"
      ],
      "metadata": {
        "id": "HcLwRAdU3Jy8"
      },
      "execution_count": null,
      "outputs": []
    },
    {
      "cell_type": "code",
      "source": [
        "min(digits)"
      ],
      "metadata": {
        "id": "arSK6kOr3Nwg",
        "colab": {
          "base_uri": "https://localhost:8080/"
        },
        "outputId": "3a619ce4-5c4a-40e1-c042-6bbe3eeda26d"
      },
      "execution_count": null,
      "outputs": [
        {
          "output_type": "execute_result",
          "data": {
            "text/plain": [
              "0"
            ]
          },
          "metadata": {},
          "execution_count": 18
        }
      ]
    },
    {
      "cell_type": "code",
      "source": [
        "max(digits)"
      ],
      "metadata": {
        "id": "z13AFiLo3Pyr",
        "colab": {
          "base_uri": "https://localhost:8080/"
        },
        "outputId": "079227bb-855c-42f8-e77e-796fca1a3062"
      },
      "execution_count": null,
      "outputs": [
        {
          "output_type": "execute_result",
          "data": {
            "text/plain": [
              "9"
            ]
          },
          "metadata": {},
          "execution_count": 19
        }
      ]
    },
    {
      "cell_type": "code",
      "source": [
        "sum(digits)"
      ],
      "metadata": {
        "id": "VE_QfNBq3SIY",
        "colab": {
          "base_uri": "https://localhost:8080/"
        },
        "outputId": "07e4531e-529b-4e58-e92c-602dbb94e19f"
      },
      "execution_count": null,
      "outputs": [
        {
          "output_type": "execute_result",
          "data": {
            "text/plain": [
              "45"
            ]
          },
          "metadata": {},
          "execution_count": 20
        }
      ]
    },
    {
      "cell_type": "code",
      "source": [
        "digits[0]"
      ],
      "metadata": {
        "colab": {
          "base_uri": "https://localhost:8080/"
        },
        "id": "TsnSnL0nvY3Q",
        "outputId": "cacab299-b1db-45bd-faf2-8fe2305ced49"
      },
      "execution_count": null,
      "outputs": [
        {
          "output_type": "execute_result",
          "data": {
            "text/plain": [
              "1"
            ]
          },
          "metadata": {},
          "execution_count": 24
        }
      ]
    },
    {
      "cell_type": "code",
      "source": [
        "digits[-1]"
      ],
      "metadata": {
        "colab": {
          "base_uri": "https://localhost:8080/"
        },
        "id": "MrwIxrqRwGC9",
        "outputId": "8418fdeb-2880-4094-97c6-4579c8def5eb"
      },
      "execution_count": null,
      "outputs": [
        {
          "output_type": "execute_result",
          "data": {
            "text/plain": [
              "0"
            ]
          },
          "metadata": {},
          "execution_count": 25
        }
      ]
    },
    {
      "cell_type": "code",
      "source": [
        "digits[2]"
      ],
      "metadata": {
        "colab": {
          "base_uri": "https://localhost:8080/"
        },
        "id": "whaFStEvwJc6",
        "outputId": "a91ecda7-cefa-4bc8-c30c-921389a69ec5"
      },
      "execution_count": null,
      "outputs": [
        {
          "output_type": "execute_result",
          "data": {
            "text/plain": [
              "3"
            ]
          },
          "metadata": {},
          "execution_count": 26
        }
      ]
    },
    {
      "cell_type": "code",
      "source": [
        "digits[-4]"
      ],
      "metadata": {
        "colab": {
          "base_uri": "https://localhost:8080/"
        },
        "id": "nb-Dd3IowOmb",
        "outputId": "d2ef3c2f-d936-4e72-aee9-7b3d0156e08c"
      },
      "execution_count": null,
      "outputs": [
        {
          "output_type": "execute_result",
          "data": {
            "text/plain": [
              "7"
            ]
          },
          "metadata": {},
          "execution_count": 27
        }
      ]
    },
    {
      "cell_type": "markdown",
      "source": [
        "### List Comprehensions\n"
      ],
      "metadata": {
        "id": "H68897kt3Xan"
      }
    },
    {
      "cell_type": "code",
      "source": [
        "squares = [value**2 for value in range(1, 11)]\n",
        "print(squares)"
      ],
      "metadata": {
        "id": "1iXCqqK43Yrq",
        "colab": {
          "base_uri": "https://localhost:8080/"
        },
        "outputId": "9c08407c-a969-42dd-db2f-971f6cd92c78"
      },
      "execution_count": null,
      "outputs": [
        {
          "output_type": "stream",
          "name": "stdout",
          "text": [
            "[1, 4, 9, 16, 25, 36, 49, 64, 81, 100]\n"
          ]
        }
      ]
    },
    {
      "cell_type": "markdown",
      "source": [
        "---\n",
        "\n",
        "<b> Ejercicio 1</b>\n",
        "\n",
        "use un bucle **for** para imprimir los números del 1 al 20, inclusive.\n"
      ],
      "metadata": {
        "id": "v8l2iiax3w6L"
      }
    },
    {
      "cell_type": "code",
      "source": [
        "for i in range(1, 21):\n",
        "  print(i)"
      ],
      "metadata": {
        "id": "1Ef0QS4syK9o"
      },
      "execution_count": null,
      "outputs": []
    },
    {
      "cell_type": "markdown",
      "source": [
        "---\n",
        "\n",
        "<b> Ejercicio 2</b>\n",
        "\n",
        "Haga una lista de los números del uno al millón y luego use un ciclo for para imprimir los números. (Si la salida tarda demasiado, deténgala presionando CTRL-C o cerrando la ventana de salida).\n"
      ],
      "metadata": {
        "id": "rYzzJUd64HR1"
      }
    },
    {
      "cell_type": "code",
      "source": [
        "list(range(1,1_000_001))"
      ],
      "metadata": {
        "id": "_O9DewxNymHb"
      },
      "execution_count": null,
      "outputs": []
    },
    {
      "cell_type": "code",
      "source": [
        "list(range(0, 1_000_001, 100_000))"
      ],
      "metadata": {
        "id": "bWrzZpA7y4WI"
      },
      "execution_count": null,
      "outputs": []
    },
    {
      "cell_type": "markdown",
      "source": [
        "---\n",
        "\n",
        "<b> Ejercicio 3</b>\n",
        "\n",
        "Haga una lista de los números del uno al millón y luego use min() y max() para asegurarse de que su lista realmente comience en uno y termine en un millón. Además, use la función sum() para ver qué tan rápido Python puede agregar un millón de números.\n"
      ],
      "metadata": {
        "id": "2qrKdPpb4chR"
      }
    },
    {
      "cell_type": "code",
      "source": [
        "a = list(range(1,1_000_001))\n",
        "print(f\"\\nValor minimo: {min(a)}\")\n",
        "print(f\"\\nValor maximo: {max(a)}\")"
      ],
      "metadata": {
        "colab": {
          "base_uri": "https://localhost:8080/"
        },
        "id": "b2_PFfgUzTTP",
        "outputId": "77f7b8e3-7ac1-48b2-95e7-483643a51cad"
      },
      "execution_count": null,
      "outputs": [
        {
          "output_type": "stream",
          "name": "stdout",
          "text": [
            "\n",
            "Valor minimo: 1\n",
            "\n",
            "Valor maximo: 1000000\n"
          ]
        }
      ]
    },
    {
      "cell_type": "markdown",
      "source": [
        "---\n",
        "\n",
        "<b> Ejercicio 4</b>\n",
        "\n",
        "Use el tercer argumento de la función range() para hacer una lista de los números impares del 1 al 20. Use un bucle for para imprimir cada número.\n"
      ],
      "metadata": {
        "id": "oizdiWqQ44qx"
      }
    },
    {
      "cell_type": "code",
      "source": [
        "\"\"\"Numeros impares del 1 al 20\"\"\"\n",
        "b = list(range(1,20,2))\n",
        "\n",
        "for i in b:\n",
        "  print(i)\n"
      ],
      "metadata": {
        "id": "D2WUT9tG0Vd3"
      },
      "execution_count": null,
      "outputs": []
    },
    {
      "cell_type": "markdown",
      "source": [
        "---\n",
        "\n",
        "<b> Ejercicio 5</b>\n",
        "\n",
        "Haga una lista de los múltiplos de 3 de 3 a 30. Use un ciclo for para imprimir los números en su lista.\n"
      ],
      "metadata": {
        "id": "yK9dmJJi5W6W"
      }
    },
    {
      "cell_type": "code",
      "source": [
        "\"\"\"Multiplos de 3 hasta el 30\"\"\"\n",
        "c = list(range(3,31))\n",
        "m = []\n",
        "\n",
        "for i in c:\n",
        "  if i % 3 == 0:\n",
        "    m.append(i)\n",
        "\n",
        "print(f\"\\nMultiplos de 3: {m}\")"
      ],
      "metadata": {
        "colab": {
          "base_uri": "https://localhost:8080/"
        },
        "id": "pNvvu0lh8ff5",
        "outputId": "2954193f-fcf0-4c24-f61d-a2b551e2c76f"
      },
      "execution_count": null,
      "outputs": [
        {
          "output_type": "stream",
          "name": "stdout",
          "text": [
            "\n",
            "Multiplos de 3: [3, 6, 9, 12, 15, 18, 21, 24, 27, 30]\n"
          ]
        }
      ]
    },
    {
      "cell_type": "markdown",
      "source": [
        "---\n",
        "\n",
        "<b> Ejercicio 6</b>\n",
        "\n",
        "Haga una lista de los primeros 10 cubos (es decir, el cubo de cada número entero del 1 al 10) y use un ciclo for para imprimir el valor de cada cubo.\n"
      ],
      "metadata": {
        "id": "qqdPT25k5d23"
      }
    },
    {
      "cell_type": "code",
      "source": [
        "cubos = []\n",
        "\n",
        "for i in range(1,11):\n",
        "  cubos.append(i**3)\n",
        "\n",
        "for a in cubos:\n",
        "    print(a)\n"
      ],
      "metadata": {
        "id": "EO90bkaSSrEg"
      },
      "execution_count": null,
      "outputs": []
    },
    {
      "cell_type": "markdown",
      "source": [
        "---\n",
        "\n",
        "<b> Ejercicio 7</b>\n",
        "\n",
        "Use una lista de comprensión para generar una lista de los primeros 10 cubos.\n",
        "\n",
        "---"
      ],
      "metadata": {
        "id": "MQfhaTOo59GS"
      }
    },
    {
      "cell_type": "code",
      "source": [
        "cubos = [value**3 for value in range(1, 11)]\n",
        "cubos"
      ],
      "metadata": {
        "colab": {
          "base_uri": "https://localhost:8080/"
        },
        "id": "tVGX3dBhCevn",
        "outputId": "07bd93c7-4afc-4279-ef70-2b3ac22ebb5a"
      },
      "execution_count": null,
      "outputs": [
        {
          "output_type": "execute_result",
          "data": {
            "text/plain": [
              "[1, 8, 27, 64, 125, 216, 343, 512, 729, 1000]"
            ]
          },
          "metadata": {},
          "execution_count": 48
        }
      ]
    },
    {
      "cell_type": "code",
      "source": [],
      "metadata": {
        "id": "noHno_jFLn0v"
      },
      "execution_count": null,
      "outputs": []
    },
    {
      "cell_type": "markdown",
      "source": [
        "# 2. Trabajando con slices"
      ],
      "metadata": {
        "id": "-h_22RYJ6U9R"
      }
    },
    {
      "cell_type": "markdown",
      "source": [
        "### Slice"
      ],
      "metadata": {
        "id": "pEWaaEih67Yz"
      }
    },
    {
      "cell_type": "code",
      "source": [
        "players = ['charles', 'martina', 'michael', 'florence', 'eli']\n",
        "print(players[0:3])\n"
      ],
      "metadata": {
        "id": "OaraZKkC41r_",
        "colab": {
          "base_uri": "https://localhost:8080/"
        },
        "outputId": "1c55e87b-574f-4a21-9005-aff99c4513c7"
      },
      "execution_count": null,
      "outputs": [
        {
          "output_type": "stream",
          "name": "stdout",
          "text": [
            "['charles', 'martina', 'michael']\n"
          ]
        }
      ]
    },
    {
      "cell_type": "code",
      "source": [
        "print(players[1:4])"
      ],
      "metadata": {
        "id": "rsh7DhJd7Zek",
        "colab": {
          "base_uri": "https://localhost:8080/"
        },
        "outputId": "63cf4d04-ad70-485d-ec29-34ae41617ecc"
      },
      "execution_count": null,
      "outputs": [
        {
          "output_type": "stream",
          "name": "stdout",
          "text": [
            "['martina', 'michael', 'florence']\n"
          ]
        }
      ]
    },
    {
      "cell_type": "code",
      "source": [
        "print(players[:4])"
      ],
      "metadata": {
        "id": "PcO-p-IS7cs4",
        "colab": {
          "base_uri": "https://localhost:8080/"
        },
        "outputId": "7cffaf5e-4447-4e26-d8bf-6b2d9d1766d2"
      },
      "execution_count": null,
      "outputs": [
        {
          "output_type": "stream",
          "name": "stdout",
          "text": [
            "['charles', 'martina', 'michael', 'florence']\n"
          ]
        }
      ]
    },
    {
      "cell_type": "code",
      "source": [
        "print(players[2:])"
      ],
      "metadata": {
        "id": "eFiNncoN7gej",
        "colab": {
          "base_uri": "https://localhost:8080/"
        },
        "outputId": "0c2ecb53-ef89-47de-9361-da4dc5a6586c"
      },
      "execution_count": null,
      "outputs": [
        {
          "output_type": "stream",
          "name": "stdout",
          "text": [
            "['michael', 'florence', 'eli']\n"
          ]
        }
      ]
    },
    {
      "cell_type": "code",
      "source": [
        "print(players[-3:])"
      ],
      "metadata": {
        "id": "JjOgBbXy7krV",
        "colab": {
          "base_uri": "https://localhost:8080/"
        },
        "outputId": "7adba20d-2c04-441a-d251-e064e929d222"
      },
      "execution_count": null,
      "outputs": [
        {
          "output_type": "stream",
          "name": "stdout",
          "text": [
            "['michael', 'florence', 'eli']\n"
          ]
        }
      ]
    },
    {
      "cell_type": "markdown",
      "source": [
        "### Loop a través de un slice"
      ],
      "metadata": {
        "id": "CtAMacFd7qOP"
      }
    },
    {
      "cell_type": "code",
      "source": [
        "players = ['charles', 'martina', 'michael', 'florence', 'eli']\n",
        "\n",
        "print(\"Estos son los tres primeros jugadores del equipo:\")\n",
        "for player in players[:3]:\n",
        "    print(player.title())"
      ],
      "metadata": {
        "id": "uB10K-mq7vi-",
        "colab": {
          "base_uri": "https://localhost:8080/"
        },
        "outputId": "7d770648-811d-4e73-865a-dc69443f836c"
      },
      "execution_count": null,
      "outputs": [
        {
          "output_type": "stream",
          "name": "stdout",
          "text": [
            "Estos son los tres primeros jugadores del equipo:\n",
            "Charles\n",
            "Martina\n",
            "Michael\n"
          ]
        }
      ]
    },
    {
      "cell_type": "code",
      "source": [
        "players = ['charles', 'martina', 'michael', 'florence', 'eli']\n",
        "\n",
        "print(\"Estos son los tres primeros jugadores del equipo:\")\n",
        "for player in players[-3:]:\n",
        "    print(player.title())"
      ],
      "metadata": {
        "colab": {
          "base_uri": "https://localhost:8080/"
        },
        "id": "rWkTdWGTVS_M",
        "outputId": "b3a7324f-45c7-451d-a997-2a0ee218f810"
      },
      "execution_count": null,
      "outputs": [
        {
          "output_type": "stream",
          "name": "stdout",
          "text": [
            "Estos son los tres primeros jugadores del equipo:\n",
            "Michael\n",
            "Florence\n",
            "Eli\n"
          ]
        }
      ]
    },
    {
      "cell_type": "markdown",
      "source": [
        "### Copiando una lista"
      ],
      "metadata": {
        "id": "jsCWYHQC8Faa"
      }
    },
    {
      "cell_type": "code",
      "source": [
        "my_foods = ['pizza', 'falafel', 'carrot cake']\n",
        "friend_foods = my_foods[:]"
      ],
      "metadata": {
        "id": "x8Vk1ehE8I21"
      },
      "execution_count": null,
      "outputs": []
    },
    {
      "cell_type": "code",
      "source": [
        "print(\"Mis platillos favoritos son:\")\n",
        "print(my_foods)"
      ],
      "metadata": {
        "id": "z0LWVPBd8SCK",
        "colab": {
          "base_uri": "https://localhost:8080/"
        },
        "outputId": "27b7f756-7b6a-4410-d0ac-3930a5f2c782"
      },
      "execution_count": null,
      "outputs": [
        {
          "output_type": "stream",
          "name": "stdout",
          "text": [
            "Mis platillos favoritos son:\n",
            "['pizza', 'falafel', 'carrot cake']\n"
          ]
        }
      ]
    },
    {
      "cell_type": "code",
      "source": [
        "print(\"\\nMis platillos favoritos son:\")\n",
        "print(friend_foods)"
      ],
      "metadata": {
        "id": "WwwjEoWS8bcG",
        "colab": {
          "base_uri": "https://localhost:8080/"
        },
        "outputId": "76e25672-5226-45ab-ca83-35ea670f5724"
      },
      "execution_count": null,
      "outputs": [
        {
          "output_type": "stream",
          "name": "stdout",
          "text": [
            "\n",
            "Mis platillos favoritos son:\n",
            "['pizza', 'falafel', 'carrot cake']\n"
          ]
        }
      ]
    },
    {
      "cell_type": "code",
      "source": [
        "my_foods.append('cannoli')\n",
        "friend_foods.append('ice cream')\n"
      ],
      "metadata": {
        "id": "722i5Iju865m"
      },
      "execution_count": null,
      "outputs": []
    },
    {
      "cell_type": "code",
      "source": [
        "print(\"Mis platillos favoritos son:\")\n",
        "print(my_foods)"
      ],
      "metadata": {
        "id": "WrvMdmk59CJ3",
        "colab": {
          "base_uri": "https://localhost:8080/"
        },
        "outputId": "6514d6c1-8a28-4095-9529-15562cc4be83"
      },
      "execution_count": null,
      "outputs": [
        {
          "output_type": "stream",
          "name": "stdout",
          "text": [
            "Mis platillos favoritos son:\n",
            "['pizza', 'falafel', 'carrot cake', 'cannoli']\n"
          ]
        }
      ]
    },
    {
      "cell_type": "code",
      "source": [
        "print(\"\\nMis platillos favoritos son:\")\n",
        "print(friend_foods)"
      ],
      "metadata": {
        "id": "IUCV_DlY9DuC",
        "colab": {
          "base_uri": "https://localhost:8080/"
        },
        "outputId": "45919d6b-155f-4ef6-cf5d-b700e27dc86d"
      },
      "execution_count": null,
      "outputs": [
        {
          "output_type": "stream",
          "name": "stdout",
          "text": [
            "\n",
            "Mis platillos favoritos son:\n",
            "['pizza', 'falafel', 'carrot cake', 'ice cream']\n"
          ]
        }
      ]
    },
    {
      "cell_type": "markdown",
      "source": [
        "---\n",
        "\n",
        "<b> Ejercicio 1</b>\n",
        "\n",
        "Utilizando alguna lista definida anteriormente:\n",
        "\n",
        "*   Imprima el mensaje **Los tres primeros elementos de la lista son:**. Luego use un slice para imprimir los primeros tres elementos de la lista de ese programa.\n",
        "\n",
        "*   Imprima el mensaje **Tres elementos de la mitad de la lista son:**. Use un slice para imprimir tres elementos del medio de la lista.\n",
        "\n",
        "*   Imprima el mensaje **Los últimos tres elementos de la lista son:**. Utilice un slice para imprimir los últimos tres elementos de la lista."
      ],
      "metadata": {
        "id": "H30p04iC93Ma"
      }
    },
    {
      "cell_type": "code",
      "source": [
        "l = [\"a\", \"b\", \"c\", \"d\", \"e\"]\n",
        "\n",
        "print(\"\\nLos tres primeros elementos de la lista son: \")\n",
        "for i in l[:3]:\n",
        "  print(f\"\\t {i}\")\n",
        "\n",
        "print(\"\\nTres elementos de la mitad de la lista son: \")\n",
        "for i in l[1:4]:\n",
        "  print(f\"\\t {i}\")\n",
        "\n",
        "print(\"\\nLos ultimos tres elementos de la lista son: \")\n",
        "for i in l[-3:]:\n",
        "  print(f\"\\t {i}\")"
      ],
      "metadata": {
        "id": "pmY6belAWjl8"
      },
      "execution_count": null,
      "outputs": []
    },
    {
      "cell_type": "markdown",
      "source": [
        "---\n",
        "\n",
        "<b> Ejercicio 2</b>\n",
        "\n",
        "Haga una copia de la lista de pizzas y llámela friend_pizzas. Luego, haz lo siguiente:\n",
        "\n",
        "* Agregue una nueva pizza a la lista original.\n",
        "* Agrega una pizza diferente a la lista friend_pizzas.\n",
        "* Demuestra que tienes dos listas separadas. Imprima el mensaje Mis pizzas favoritas son: y luego use un bucle for para imprimir la primera lista. Imprima el mensaje Las pizzas favoritas de mi amigo son: y luego use un bucle for para imprimir la segunda lista. Asegúrese de que cada pizza nueva se almacene en la lista adecuada."
      ],
      "metadata": {
        "id": "0SzOQQ7S_s1U"
      }
    },
    {
      "cell_type": "code",
      "source": [
        "pizzas = [\"pepperoni\",\"margarita\",\"cuatro_quesos\"]\n",
        "friend_pizzas = pizzas[:]\n",
        "\n",
        "pizzas.append(\"hawaiana\")\n",
        "friend_pizzas.append(\"napolitana\")\n",
        "\n",
        "print(\"\\nMis pizzas favoritas son: \")\n",
        "for i in pizzas:\n",
        "  print(f\"\\t {i}\")\n",
        "\n",
        "print(\"\\nLas pizzas favoritas de mi amigo son: \")\n",
        "for i in friend_pizzas:\n",
        "  print(f\"\\t {i}\")"
      ],
      "metadata": {
        "id": "OC1l_Pa7aiHx"
      },
      "execution_count": null,
      "outputs": []
    },
    {
      "cell_type": "markdown",
      "source": [
        "# 3. Tuplas"
      ],
      "metadata": {
        "id": "qXYwCDghBHAx"
      }
    },
    {
      "cell_type": "code",
      "source": [
        "dimensions = (200, 50)"
      ],
      "metadata": {
        "id": "umIk-vrP_sXx"
      },
      "execution_count": null,
      "outputs": []
    },
    {
      "cell_type": "code",
      "source": [
        "print(dimensions[0])"
      ],
      "metadata": {
        "id": "adBx3YWqB1xF",
        "colab": {
          "base_uri": "https://localhost:8080/"
        },
        "outputId": "356d97f9-b278-4b28-a666-5bf08151b8f4"
      },
      "execution_count": null,
      "outputs": [
        {
          "output_type": "stream",
          "name": "stdout",
          "text": [
            "200\n"
          ]
        }
      ]
    },
    {
      "cell_type": "code",
      "source": [
        "print(dimensions[1])"
      ],
      "metadata": {
        "id": "EXHXNGfoB54Y",
        "colab": {
          "base_uri": "https://localhost:8080/"
        },
        "outputId": "b4000a9b-4f8d-46e3-eea4-6ddf6e06b8f4"
      },
      "execution_count": null,
      "outputs": [
        {
          "output_type": "stream",
          "name": "stdout",
          "text": [
            "50\n"
          ]
        }
      ]
    },
    {
      "cell_type": "markdown",
      "source": [
        "### Loops a traves de una Tupla"
      ],
      "metadata": {
        "id": "5SkhgqGSCX7Z"
      }
    },
    {
      "cell_type": "code",
      "source": [
        "dimensions = (200, 50)\n",
        "for dimension in dimensions:\n",
        "    print(dimension)"
      ],
      "metadata": {
        "id": "N9sSXtO3CoPp",
        "colab": {
          "base_uri": "https://localhost:8080/"
        },
        "outputId": "991d6ae6-089c-4116-d6d0-ae40327db106"
      },
      "execution_count": null,
      "outputs": [
        {
          "output_type": "stream",
          "name": "stdout",
          "text": [
            "200\n",
            "50\n"
          ]
        }
      ]
    },
    {
      "cell_type": "markdown",
      "source": [
        "### Modificando una tupla"
      ],
      "metadata": {
        "id": "y-nYJPBwC5jg"
      }
    },
    {
      "cell_type": "code",
      "source": [
        "print(\"Dimensiones originales:\")\n",
        "for dimension in dimensions:\n",
        "    print(dimension)"
      ],
      "metadata": {
        "colab": {
          "base_uri": "https://localhost:8080/"
        },
        "id": "ze8gyArPCz0Z",
        "outputId": "14fef7e3-c913-4115-8665-3e0b61292c18"
      },
      "execution_count": null,
      "outputs": [
        {
          "output_type": "stream",
          "name": "stdout",
          "text": [
            "Dimensiones originales:\n",
            "200\n",
            "50\n"
          ]
        }
      ]
    },
    {
      "cell_type": "code",
      "source": [
        "dimensions = (400, 100)\n",
        "print(\"\\nModified dimensions:\")\n",
        "for dimension in dimensions:\n",
        "  print(dimension)"
      ],
      "metadata": {
        "id": "9Ej9n7-9C_Jc",
        "colab": {
          "base_uri": "https://localhost:8080/"
        },
        "outputId": "724e0611-4292-49e2-a16c-fe1a06ea8361"
      },
      "execution_count": null,
      "outputs": [
        {
          "output_type": "stream",
          "name": "stdout",
          "text": [
            "\n",
            "Modified dimensions:\n",
            "400\n",
            "100\n"
          ]
        }
      ]
    },
    {
      "cell_type": "markdown",
      "source": [
        "---\n",
        "\n",
        "<b> Ejercicio 1</b>\n",
        "\n",
        "Un restaurante estilo buffet ofrece solo cinco alimentos básicos. Piense en cinco alimentos simples y guárdelos en una tupla.\n",
        "\n",
        "* Use un bucle for para imprimir cada comida que ofrece el restaurante.\n",
        "Intente modificar uno de los elementos y asegúrese de que Python rechace el cambio.\n",
        "* El restaurante cambia su menú, reemplazando dos de los artículos con comidas diferentes. Agregue una línea que reescriba la tupla y luego use un ciclo for para imprimir cada uno de los elementos en el menú revisado.\n",
        "\n",
        "---"
      ],
      "metadata": {
        "id": "WHk9FL9lDtBY"
      }
    },
    {
      "cell_type": "code",
      "source": [
        "platos = (\"Pollo al horno\", \"Ceviche\", \"Arroz con pollo\", \"Estofado\", \"Tallarines rojos\")\n",
        "\n",
        "print(\"\\nLos platos son: \")\n",
        "\n",
        "for p in platos:\n",
        "  print(f\"\\t-{p}\")\n",
        "\n",
        "platos = (\"Pollo al horno\", \"Lomo saltado\", \"Arroz con pollo\", \"Papa rellena\", \"Tallarines rojos\")\n",
        "\n",
        "print(\"\\nEl nuevo menu es: \")\n",
        "\n",
        "for p in platos:\n",
        "  print(f\"\\t-{p}\")"
      ],
      "metadata": {
        "colab": {
          "base_uri": "https://localhost:8080/"
        },
        "id": "WHcJIomDIlA_",
        "outputId": "55a0c056-5d36-4306-fa61-5658cdb51e7a"
      },
      "execution_count": null,
      "outputs": [
        {
          "output_type": "stream",
          "name": "stdout",
          "text": [
            "\n",
            "Los platos son: \n",
            "\t-Pollo al horno\n",
            "\t-Ceviche\n",
            "\t-Arroz con pollo\n",
            "\t-Estofado\n",
            "\t-Tallarines rojos\n",
            "\n",
            "El nuevo menu es: \n",
            "\t-Pollo al horno\n",
            "\t-Lomo saltado\n",
            "\t-Arroz con pollo\n",
            "\t-Papa rellena\n",
            "\t-Tallarines rojos\n"
          ]
        }
      ]
    },
    {
      "cell_type": "markdown",
      "source": [
        "# 4. Diccionarios"
      ],
      "metadata": {
        "id": "BZTa7B8LFrIG"
      }
    },
    {
      "cell_type": "markdown",
      "source": [
        "### Un diccionario simple"
      ],
      "metadata": {
        "id": "CK7WpabLGUxg"
      }
    },
    {
      "cell_type": "code",
      "source": [
        "alien_0 = {'color': 'green', 'points': 5}\n",
        "\n",
        "print(alien_0['color'])\n",
        "print(alien_0['points'])"
      ],
      "metadata": {
        "id": "1LBNlCbNH7If",
        "colab": {
          "base_uri": "https://localhost:8080/"
        },
        "outputId": "2855300c-2052-437d-c4da-904ce131c3a5"
      },
      "execution_count": null,
      "outputs": [
        {
          "output_type": "stream",
          "name": "stdout",
          "text": [
            "green\n",
            "5\n"
          ]
        }
      ]
    },
    {
      "cell_type": "markdown",
      "source": [
        "### Trabajando con diccionarios"
      ],
      "metadata": {
        "id": "9leFQDy1H-90"
      }
    },
    {
      "cell_type": "code",
      "source": [
        "alien_0 = {'color': 'green'}\n",
        "\n",
        "print(alien_0['color'])"
      ],
      "metadata": {
        "id": "BN2xEdrkK2bk",
        "colab": {
          "base_uri": "https://localhost:8080/"
        },
        "outputId": "f5f31b8f-ed5f-4dd0-bac6-cf1252af9489"
      },
      "execution_count": null,
      "outputs": [
        {
          "output_type": "stream",
          "name": "stdout",
          "text": [
            "green\n"
          ]
        }
      ]
    },
    {
      "cell_type": "code",
      "source": [
        "alien_0 = {'color': 'green', 'points': 5}\n",
        "\n",
        "new_points = alien_0['points']\n",
        "print(f\"Acabas de ganar {new_points} puntos!\")"
      ],
      "metadata": {
        "id": "R4beHSA3LISl",
        "colab": {
          "base_uri": "https://localhost:8080/"
        },
        "outputId": "452f42db-4b52-49eb-def3-452ac423e43d"
      },
      "execution_count": null,
      "outputs": [
        {
          "output_type": "stream",
          "name": "stdout",
          "text": [
            "Acabas de ganar 5 puntos!\n"
          ]
        }
      ]
    },
    {
      "cell_type": "markdown",
      "source": [
        "### Agregando nuevos pares Key-Value"
      ],
      "metadata": {
        "id": "5hqxo8XZLn1q"
      }
    },
    {
      "cell_type": "code",
      "source": [
        "alien_0 = {'color': 'green', 'points': 5}\n",
        "print(alien_0)\n",
        "\n",
        "alien_0['x_position'] = 0\n",
        "alien_0['y_position'] = 25\n",
        "print(alien_0)"
      ],
      "metadata": {
        "id": "oznLSM29L4fq",
        "colab": {
          "base_uri": "https://localhost:8080/"
        },
        "outputId": "f9103d38-250b-442f-aa7a-a7367c9d703b"
      },
      "execution_count": null,
      "outputs": [
        {
          "output_type": "stream",
          "name": "stdout",
          "text": [
            "{'color': 'green', 'points': 5}\n",
            "{'color': 'green', 'points': 5, 'x_position': 0, 'y_position': 25}\n"
          ]
        }
      ]
    },
    {
      "cell_type": "markdown",
      "source": [
        "### Comenzando con un diccionario vacio"
      ],
      "metadata": {
        "id": "dVF5nxchMdg-"
      }
    },
    {
      "cell_type": "code",
      "source": [
        "alien_0 = {}\n",
        "\n",
        "alien_0['color'] = 'green'\n",
        "alien_0['points'] = 5\n",
        "\n",
        "print(alien_0)"
      ],
      "metadata": {
        "id": "9tlTgbesMhSZ",
        "colab": {
          "base_uri": "https://localhost:8080/"
        },
        "outputId": "775f65e0-c31a-47be-cc01-2f55d438a96a"
      },
      "execution_count": null,
      "outputs": [
        {
          "output_type": "stream",
          "name": "stdout",
          "text": [
            "{'color': 'green', 'points': 5}\n"
          ]
        }
      ]
    },
    {
      "cell_type": "markdown",
      "source": [
        "### Modificando valores de un diccionario"
      ],
      "metadata": {
        "id": "fsYC2R6GMnnF"
      }
    },
    {
      "cell_type": "code",
      "source": [
        "alien_0 = {'color': 'verde'}\n",
        "print(f\"El alien es {alien_0['color']}.\")\n",
        "\n",
        "alien_0['color'] = 'amarillo'\n",
        "print(f\"El alien ahora es {alien_0['color']}.\")\n"
      ],
      "metadata": {
        "id": "TlHsOz42Mszc",
        "colab": {
          "base_uri": "https://localhost:8080/"
        },
        "outputId": "0ce1b4a4-bd83-4876-849e-06b9715ff782"
      },
      "execution_count": null,
      "outputs": [
        {
          "output_type": "stream",
          "name": "stdout",
          "text": [
            "El alien es verde.\n",
            "El alien ahora es amarillo.\n"
          ]
        }
      ]
    },
    {
      "cell_type": "code",
      "source": [
        "alien_0 = {'x_position': 0, 'y_position': 25, 'speed': 'medium'}\n",
        "print(f\"Original position: {alien_0['x_position']}\")\n",
        "\n",
        "if alien_0['speed'] == 'slow':\n",
        "  x_increment = 1\n",
        "elif alien_0['speed'] == 'medium':\n",
        "  x_increment = 2\n",
        "else:\n",
        "  x_increment = 3\n",
        "\n",
        "alien_0['x_position'] = alien_0['x_position'] + x_increment\n",
        "print(f\"New position: {alien_0['x_position']}\")\n"
      ],
      "metadata": {
        "id": "7t-om1JhM951",
        "colab": {
          "base_uri": "https://localhost:8080/"
        },
        "outputId": "3b686d0b-7a4d-42e7-d81f-007fd831a54a"
      },
      "execution_count": null,
      "outputs": [
        {
          "output_type": "stream",
          "name": "stdout",
          "text": [
            "Original position: 0\n",
            "New position: 3\n"
          ]
        }
      ]
    },
    {
      "cell_type": "markdown",
      "source": [
        "### Removiendo pares Key-Value"
      ],
      "metadata": {
        "id": "q2d6kw3XNkRQ"
      }
    },
    {
      "cell_type": "code",
      "source": [
        "alien_0 = {'color': 'green', 'points': 5}\n",
        "print(alien_0)\n",
        "\n",
        "del alien_0['points']\n",
        "print(alien_0)\n"
      ],
      "metadata": {
        "id": "ZQwVkViANor0",
        "colab": {
          "base_uri": "https://localhost:8080/"
        },
        "outputId": "6a413c54-6608-4b2f-d50c-510672862856"
      },
      "execution_count": null,
      "outputs": [
        {
          "output_type": "stream",
          "name": "stdout",
          "text": [
            "{'color': 'green', 'points': 5}\n",
            "{'color': 'green'}\n"
          ]
        }
      ]
    },
    {
      "cell_type": "markdown",
      "source": [
        "### Un diccionario de objetos similares"
      ],
      "metadata": {
        "id": "K3ASKj6tOnas"
      }
    },
    {
      "cell_type": "code",
      "source": [
        "favorite_languages = {\n",
        "    'jen': 'python',\n",
        "    'sarah': 'c++',\n",
        "    'edward': 'ruby',\n",
        "    'phil': 'python',\n",
        "    }"
      ],
      "metadata": {
        "id": "9x9FJQp0Oqrj"
      },
      "execution_count": null,
      "outputs": []
    },
    {
      "cell_type": "code",
      "source": [
        "language = favorite_languages['sarah']\n",
        "print(f\"El lenguaje favorito de Sarah es {language}.\")"
      ],
      "metadata": {
        "id": "Vl4peHpEOvAo",
        "colab": {
          "base_uri": "https://localhost:8080/"
        },
        "outputId": "f3928cb1-381d-46bd-cfca-6acc84854547"
      },
      "execution_count": null,
      "outputs": [
        {
          "output_type": "stream",
          "name": "stdout",
          "text": [
            "El lenguaje favorito de Sarah es c++.\n"
          ]
        }
      ]
    },
    {
      "cell_type": "code",
      "source": [
        "favorite_languages['sarah']"
      ],
      "metadata": {
        "id": "xKCA_j2UO5eC",
        "colab": {
          "base_uri": "https://localhost:8080/",
          "height": 35
        },
        "outputId": "3d3522ad-b6bb-4499-c7d2-61bf09005aa1"
      },
      "execution_count": null,
      "outputs": [
        {
          "output_type": "execute_result",
          "data": {
            "text/plain": [
              "'c++'"
            ],
            "application/vnd.google.colaboratory.intrinsic+json": {
              "type": "string"
            }
          },
          "metadata": {},
          "execution_count": 30
        }
      ]
    },
    {
      "cell_type": "markdown",
      "source": [
        "### Usando get() para acceder a los valores"
      ],
      "metadata": {
        "id": "hHVI1fmuO_7v"
      }
    },
    {
      "cell_type": "code",
      "source": [
        "alien_0 = {'color': 'green', 'speed': 'slow'}\n",
        "print(alien_0['points'])"
      ],
      "metadata": {
        "id": "CEStOn5DPOo_"
      },
      "execution_count": null,
      "outputs": []
    },
    {
      "cell_type": "code",
      "source": [
        "alien_0.get('color')"
      ],
      "metadata": {
        "id": "1OOz1_tNPr6b",
        "colab": {
          "base_uri": "https://localhost:8080/",
          "height": 35
        },
        "outputId": "fdc8b0bf-437f-40a7-d81f-32044e8ff6b4"
      },
      "execution_count": null,
      "outputs": [
        {
          "output_type": "execute_result",
          "data": {
            "text/plain": [
              "'green'"
            ],
            "application/vnd.google.colaboratory.intrinsic+json": {
              "type": "string"
            }
          },
          "metadata": {},
          "execution_count": 32
        }
      ]
    },
    {
      "cell_type": "code",
      "source": [
        "point_value = alien_0.get('points', 'No point value assigned.')\n",
        "print(point_value)"
      ],
      "metadata": {
        "id": "jSYYU2MxPVmd",
        "colab": {
          "base_uri": "https://localhost:8080/"
        },
        "outputId": "869548d8-9dc2-4df3-c209-747231bc24d1"
      },
      "execution_count": null,
      "outputs": [
        {
          "output_type": "stream",
          "name": "stdout",
          "text": [
            "No point value assigned.\n"
          ]
        }
      ]
    },
    {
      "cell_type": "code",
      "source": [
        "alien_0.get('points', 'No point value assigned.')"
      ],
      "metadata": {
        "id": "msUlArzMPqQK",
        "colab": {
          "base_uri": "https://localhost:8080/",
          "height": 35
        },
        "outputId": "e44f893a-84bd-45b6-c347-edd05d45d054"
      },
      "execution_count": null,
      "outputs": [
        {
          "output_type": "execute_result",
          "data": {
            "text/plain": [
              "'No point value assigned.'"
            ],
            "application/vnd.google.colaboratory.intrinsic+json": {
              "type": "string"
            }
          },
          "metadata": {},
          "execution_count": 34
        }
      ]
    },
    {
      "cell_type": "markdown",
      "source": [
        "---\n",
        "\n",
        "<b> Ejercicio 1</b>\n",
        "\n",
        "Usa un diccionario para almacenar información sobre una persona que conoces. Almacene su nombre, apellido, edad y la ciudad en la que vive. Debe tener claves como nombre, apellido, edad y ciudad. Imprima cada parte de información almacenada en su diccionario.\n",
        "\n"
      ],
      "metadata": {
        "id": "ctXa-OLlQaXn"
      }
    },
    {
      "cell_type": "code",
      "source": [
        "info_person = {\"nombre\":\"Ebert\",\"apellido\" : \"Orcco\",\"edad\":23,\"ciudad\": \"Lima\"}\n",
        "\n",
        "print(info_person['nombre'])\n",
        "print(info_person['apellido'])\n",
        "print(info_person['edad'])\n",
        "print(info_person['ciudad'])"
      ],
      "metadata": {
        "colab": {
          "base_uri": "https://localhost:8080/"
        },
        "id": "eLVNqvl7Sh-L",
        "outputId": "361025f6-e62d-4007-f841-7a48dfe7dc4b"
      },
      "execution_count": null,
      "outputs": [
        {
          "output_type": "stream",
          "name": "stdout",
          "text": [
            "Ebert\n",
            "Orcco\n",
            "23\n",
            "Lima\n"
          ]
        }
      ]
    },
    {
      "cell_type": "markdown",
      "source": [
        "---\n",
        "\n",
        "<b> Ejercicio 2</b>\n",
        "\n",
        "Use un diccionario para almacenar los números favoritos de las personas. Piensa en cinco nombres y utilízalos como llaves en tu diccionario. Piense en un número favorito para cada persona y guárdelo como un valor en su diccionario. Escriba el nombre de cada persona y su número favorito. \n",
        "\n"
      ],
      "metadata": {
        "id": "7_krS5iiQ7KW"
      }
    },
    {
      "cell_type": "code",
      "source": [
        "favorite_numbers = {\"A\": 27, \"B\": 29,\"C\":45,\"D\":20,\"E\":16}\n",
        "\n",
        "for i in favorite_numbers:\n",
        "  print(f\"\\nEl numero favorito de \"+i+f\" es : {favorite_numbers[i]}\")\n",
        " "
      ],
      "metadata": {
        "colab": {
          "base_uri": "https://localhost:8080/"
        },
        "id": "W-kK9313ThEj",
        "outputId": "a5233e53-1f41-4be2-e060-30aa09fd5eb1"
      },
      "execution_count": null,
      "outputs": [
        {
          "output_type": "stream",
          "name": "stdout",
          "text": [
            "\n",
            "El numero favorito de A es : 27\n",
            "\n",
            "El numero favorito de B es : 29\n",
            "\n",
            "El numero favorito de C es : 45\n",
            "\n",
            "El numero favorito de D es : 20\n",
            "\n",
            "El numero favorito de E es : 16\n"
          ]
        }
      ]
    },
    {
      "cell_type": "markdown",
      "source": [
        "---\n",
        "\n",
        "<b> Ejercicio 3</b>\n",
        "\n",
        "Piense en cinco palabras de programación que haya aprendido. Utilice estas palabras como llaves en su glosario y almacene sus significados como valores.\n",
        "\n",
        "Imprima cada palabra y su significado como una salida con un formato ordenado. Puede imprimir la palabra seguida de dos puntos y luego su significado, o imprimir la palabra en una línea y luego imprimir su significado con sangría en una segunda línea. Utilice el carácter de nueva línea (\\n) para insertar una línea en blanco entre cada par de palabra y significado en su salida.\n",
        "\n",
        "---"
      ],
      "metadata": {
        "id": "PmMzWA-nVOOi"
      }
    },
    {
      "cell_type": "code",
      "source": [
        "learned = {\"del\":\"elimina objectos\", \n",
        "         \"lower()\":\"pasa a minuscula\",\n",
        "         \"upper()\":\"pasa todo a mayuscula\", \n",
        "         \"range\":\"me da un rango de valores\", \n",
        "         \"def\":\"para crear una funcion\"}\n",
        "\n",
        "for i in learned:\n",
        "  print(f\"\\nLa palabra \"+i+f\" significa: \\n\\t -{learned[i]}\")"
      ],
      "metadata": {
        "id": "z46lTwSDn89l",
        "outputId": "770a9468-3a63-4c2c-a99b-565b96b5aa19",
        "colab": {
          "base_uri": "https://localhost:8080/"
        }
      },
      "execution_count": 4,
      "outputs": [
        {
          "output_type": "stream",
          "name": "stdout",
          "text": [
            "\n",
            "La palabra del significa: \n",
            "\t -elimina objectos\n",
            "\n",
            "La palabra lower() significa: \n",
            "\t -pasa a minuscula\n",
            "\n",
            "La palabra upper() significa: \n",
            "\t -pasa todo a mayuscula\n",
            "\n",
            "La palabra range significa: \n",
            "\t -me da un rango de valores\n",
            "\n",
            "La palabra def significa: \n",
            "\t -para crear una funcion\n"
          ]
        }
      ]
    },
    {
      "cell_type": "markdown",
      "source": [
        "### Loops con diccionarios"
      ],
      "metadata": {
        "id": "xHZwF4EJVuP7"
      }
    },
    {
      "cell_type": "code",
      "source": [
        "user_0 = {\n",
        "    'username': 'efermi',\n",
        "    'first': 'enrico',\n",
        "    'last': 'fermi',\n",
        "    }"
      ],
      "metadata": {
        "id": "Nhs0f6CEQ6np"
      },
      "execution_count": null,
      "outputs": []
    },
    {
      "cell_type": "code",
      "source": [
        "for key, value in user_0.items():\n",
        "    print(f\"\\nKey: {key}\")\n",
        "    print(f\"Value: {value}\")"
      ],
      "metadata": {
        "id": "Q1m7T12eV3XJ",
        "colab": {
          "base_uri": "https://localhost:8080/"
        },
        "outputId": "361ec92f-95f0-4a21-e42e-3c6ba0f56796"
      },
      "execution_count": null,
      "outputs": [
        {
          "output_type": "stream",
          "name": "stdout",
          "text": [
            "\n",
            "Key: username\n",
            "Value: efermi\n",
            "\n",
            "Key: first\n",
            "Value: enrico\n",
            "\n",
            "Key: last\n",
            "Value: fermi\n"
          ]
        }
      ]
    },
    {
      "cell_type": "code",
      "source": [
        "for name, language in favorite_languages.items():\n",
        "  print(f\"El lenguaje favorito de {name} es {language}.\")"
      ],
      "metadata": {
        "id": "AanKmbfWWFCn",
        "colab": {
          "base_uri": "https://localhost:8080/"
        },
        "outputId": "f346588b-9b40-4236-d0ed-5a170c6984f4"
      },
      "execution_count": null,
      "outputs": [
        {
          "output_type": "stream",
          "name": "stdout",
          "text": [
            "El lenguaje favorito de jen es python.\n",
            "El lenguaje favorito de sarah es c++.\n",
            "El lenguaje favorito de edward es ruby.\n",
            "El lenguaje favorito de phil es python.\n"
          ]
        }
      ]
    },
    {
      "cell_type": "code",
      "source": [
        "for name in sorted(favorite_languages.keys()):\n",
        "    print(f\"{name.title()}, gracias por tomar la encuesta.\")"
      ],
      "metadata": {
        "id": "C2PjJC4rjbgB",
        "colab": {
          "base_uri": "https://localhost:8080/"
        },
        "outputId": "f8f25ab9-e9e4-4f25-8516-f919603aed50"
      },
      "execution_count": null,
      "outputs": [
        {
          "output_type": "stream",
          "name": "stdout",
          "text": [
            "Edward, gracias por tomar la encuesta.\n",
            "Jen, gracias por tomar la encuesta.\n",
            "Phil, gracias por tomar la encuesta.\n",
            "Sarah, gracias por tomar la encuesta.\n"
          ]
        }
      ]
    },
    {
      "cell_type": "markdown",
      "source": [
        "---\n",
        "\n",
        "<b> Ejercicio 1</b>\n",
        "\n",
        "Haga un diccionario que contenga tres ríos principales y el país por el que pasa cada río. Un par clave-valor podría ser 'nilo': 'egipto'.\n",
        "\n",
        "* Use un bucle para imprimir una oración sobre cada río, como El Nilo atraviesa Egipto.\n",
        "* Utilice un bucle para imprimir el nombre de cada río incluido en el diccionario.\n",
        "* Use un bucle para imprimir el nombre de cada país incluido en el diccionario.\n"
      ],
      "metadata": {
        "id": "Ov6u5MxIj2WA"
      }
    },
    {
      "cell_type": "code",
      "source": [
        "rivers = {\"nilo\":\"Egipto\", \"amazonas\":\"Peru\", \"Yang tse kiang\":\"China\"}\n",
        "\n",
        "for rio, pais in rivers.items():\n",
        "  print(f\"El {rio} atraviesa {pais}\")\n",
        "\n",
        "print(\"\\nRios:\")\n",
        "for rio in rivers.keys():\n",
        "  print(f\"\\t-{rio}\")\n",
        "\n",
        "print(\"\\nPaises:\")\n",
        "for pais in rivers.values():\n",
        "  print(f\"\\t-{pais}\")"
      ],
      "metadata": {
        "colab": {
          "base_uri": "https://localhost:8080/"
        },
        "id": "0X26DK7wwv_v",
        "outputId": "e9ebcd77-317f-446b-af72-0edc32f23fff"
      },
      "execution_count": null,
      "outputs": [
        {
          "output_type": "stream",
          "name": "stdout",
          "text": [
            "El nilo atraviesa Egipto\n",
            "El amazonas atraviesa Peru\n",
            "El Yang tse kiang atraviesa China\n",
            "\n",
            "Rios:\n",
            "\t-nilo\n",
            "\t-amazonas\n",
            "\t-Yang tse kiang\n",
            "\n",
            "Paises:\n",
            "\t-Egipto\n",
            "\t-Peru\n",
            "\t-China\n"
          ]
        }
      ]
    },
    {
      "cell_type": "markdown",
      "source": [
        "---\n",
        "\n",
        "<b> Ejercicio 2</b>\n",
        "\n",
        "Haz una lista de las personas que deberían participar en la encuesta de idiomas favoritos. Incluye algunos nombres que ya estén en el diccionario y otros que no.\n",
        "Recorra la lista de personas que deberían realizar la encuesta. Si ya han realizado la encuesta, imprima un mensaje agradeciéndoles por responder. Si aún no han realizado la encuesta, imprima un mensaje invitándoles a realizar la encuesta.\n",
        "\n",
        "---"
      ],
      "metadata": {
        "id": "aSr26WfmkSSv"
      }
    },
    {
      "cell_type": "code",
      "source": [],
      "metadata": {
        "id": "2zGxbTyb0RxS"
      },
      "execution_count": null,
      "outputs": []
    },
    {
      "cell_type": "markdown",
      "source": [
        "### Lista de diccionarios"
      ],
      "metadata": {
        "id": "9v43SleGkhAh"
      }
    },
    {
      "cell_type": "code",
      "source": [
        "alien_0 = {'color': 'green', 'points': 5}\n",
        "alien_1 = {'color': 'yellow', 'points': 10}\n",
        "alien_2 = {'color': 'red', 'points': 15}\n",
        "\n",
        "aliens = [alien_0, alien_1, alien_2]\n",
        "\n",
        "for alien in aliens:\n",
        "  print(alien)"
      ],
      "metadata": {
        "id": "scvK9Q9bkRy0",
        "colab": {
          "base_uri": "https://localhost:8080/"
        },
        "outputId": "f2f3d981-b91d-4f40-d38c-f9de544122a3"
      },
      "execution_count": null,
      "outputs": [
        {
          "output_type": "stream",
          "name": "stdout",
          "text": [
            "{'color': 'green', 'points': 5}\n",
            "{'color': 'yellow', 'points': 10}\n",
            "{'color': 'red', 'points': 15}\n"
          ]
        }
      ]
    },
    {
      "cell_type": "code",
      "source": [
        "aliens = []\n",
        "\n",
        "# Make 30 green aliens.\n",
        "for alien_number in range(30):\n",
        "    new_alien = {'color': 'green', 'points': 5, 'speed': 'slow'}\n",
        "    aliens.append(new_alien)\n",
        "\n",
        "# Show the first 5 aliens.\n",
        "for alien in aliens[:5]:\n",
        "    print(alien)\n",
        "print(\"...\")\n",
        "\n",
        "# Show how many aliens have been created.\n",
        "print(f\"Total number of aliens: {len(aliens)}\")\n"
      ],
      "metadata": {
        "id": "fVooKiRtkufd",
        "colab": {
          "base_uri": "https://localhost:8080/"
        },
        "outputId": "f39320d4-f5dc-484b-bfc1-707008aa0ee0"
      },
      "execution_count": null,
      "outputs": [
        {
          "output_type": "stream",
          "name": "stdout",
          "text": [
            "{'color': 'green', 'points': 5, 'speed': 'slow'}\n",
            "{'color': 'green', 'points': 5, 'speed': 'slow'}\n",
            "{'color': 'green', 'points': 5, 'speed': 'slow'}\n",
            "{'color': 'green', 'points': 5, 'speed': 'slow'}\n",
            "{'color': 'green', 'points': 5, 'speed': 'slow'}\n",
            "...\n",
            "Total number of aliens: 30\n"
          ]
        }
      ]
    },
    {
      "cell_type": "code",
      "source": [
        "aliens = []\n",
        "\n",
        "# Make 30 green aliens.\n",
        "for alien_number in range(30):\n",
        "    new_alien = {'color': 'green', 'points': 5, 'speed': 'slow'}\n",
        "    aliens.append(new_alien)\n",
        "\n",
        "for alien in aliens[:3]:\n",
        "    if alien['color'] == 'green':\n",
        "        alien['color'] = 'yellow'\n",
        "        alien['speed'] = 'medium'\n",
        "        alien['points'] = 10\n",
        "\n",
        "# Show the first 5 aliens.\n",
        "for alien in aliens[:5]:\n",
        "    print(alien)\n",
        "print(\"...\")\n",
        "\n",
        "# Show how many aliens have been created.\n",
        "print(f\"Total number of aliens: {len(aliens)}\")"
      ],
      "metadata": {
        "id": "pAwmoRu5k6CR",
        "colab": {
          "base_uri": "https://localhost:8080/"
        },
        "outputId": "9d358469-ac4d-4e38-eab1-3ee08e76c22e"
      },
      "execution_count": null,
      "outputs": [
        {
          "output_type": "stream",
          "name": "stdout",
          "text": [
            "{'color': 'yellow', 'points': 10, 'speed': 'medium'}\n",
            "{'color': 'yellow', 'points': 10, 'speed': 'medium'}\n",
            "{'color': 'yellow', 'points': 10, 'speed': 'medium'}\n",
            "{'color': 'green', 'points': 5, 'speed': 'slow'}\n",
            "{'color': 'green', 'points': 5, 'speed': 'slow'}\n",
            "...\n",
            "Total number of aliens: 30\n"
          ]
        }
      ]
    },
    {
      "cell_type": "code",
      "source": [
        "aliens = []\n",
        "\n",
        "# Make 30 green aliens.\n",
        "for alien_number in range(30):\n",
        "  new_alien = {'color': 'green', 'points': 5, 'speed': 'slow'}\n",
        "  aliens.append(new_alien)\n",
        "\n",
        "for alien in aliens[:3]:\n",
        "  if alien['color'] == 'green':\n",
        "    alien['color'] = 'yellow'\n",
        "    alien['speed'] = 'medium'\n",
        "    alien['points'] = 10\n",
        "        \n",
        "  elif alien['color'] == 'yellow':\n",
        "    alien['color'] = 'red'\n",
        "    alien['speed'] = 'fast'\n",
        "    alien['points'] = 15\n",
        "\n",
        "# Show the first 5 aliens.\n",
        "for alien in aliens[:5]:\n",
        "    print(alien)\n",
        "print(\"...\")\n",
        "\n",
        "# Show how many aliens have been created.\n",
        "print(f\"Total number of aliens: {len(aliens)}\")"
      ],
      "metadata": {
        "id": "g8Q_Btd6lFDn",
        "colab": {
          "base_uri": "https://localhost:8080/"
        },
        "outputId": "92bf5b12-d6b5-4223-930d-00cdd314b397"
      },
      "execution_count": null,
      "outputs": [
        {
          "output_type": "stream",
          "name": "stdout",
          "text": [
            "{'color': 'yellow', 'points': 10, 'speed': 'medium'}\n",
            "{'color': 'yellow', 'points': 10, 'speed': 'medium'}\n",
            "{'color': 'yellow', 'points': 10, 'speed': 'medium'}\n",
            "{'color': 'green', 'points': 5, 'speed': 'slow'}\n",
            "{'color': 'green', 'points': 5, 'speed': 'slow'}\n",
            "...\n",
            "Total number of aliens: 30\n"
          ]
        }
      ]
    },
    {
      "cell_type": "markdown",
      "source": [
        "### Una lista en un diccionario"
      ],
      "metadata": {
        "id": "M3RgdLwtluyF"
      }
    },
    {
      "cell_type": "code",
      "source": [
        "# Store information about a pizza being ordered.\n",
        "pizza = {\n",
        "         'crust': 'thick',\n",
        "         'toppings': ['mushrooms', 'extra cheese'],\n",
        "        }\n",
        "\n",
        "# Summarize the order.\n",
        "print(f\"You ordered a {pizza['crust']}-crust pizza \"\n",
        "  \"with the following toppings:\")\n",
        "\n",
        "for topping in pizza['toppings']:\n",
        "  print(f\"\\t{topping}\")"
      ],
      "metadata": {
        "id": "1awTpHiplzaH",
        "colab": {
          "base_uri": "https://localhost:8080/"
        },
        "outputId": "4c8b87ec-169c-4eed-aa45-4bd5b3691d9b"
      },
      "execution_count": null,
      "outputs": [
        {
          "output_type": "stream",
          "name": "stdout",
          "text": [
            "You ordered a thick-crust pizza with the following toppings:\n",
            "\tmushrooms\n",
            "\textra cheese\n"
          ]
        }
      ]
    },
    {
      "cell_type": "code",
      "source": [
        "favorite_languages = {\n",
        "       'jen': ['python', 'ruby'],\n",
        "       'sarah': ['c'],\n",
        "       'edward': ['ruby', 'go'],\n",
        "       'phil': ['python', 'haskell'],\n",
        "       }\n",
        "\n",
        "for name, languages in favorite_languages.items():\n",
        "  print(f\"\\n{name}'s favorite languages are:\")\n",
        "\n",
        "  for language in languages:\n",
        "    print(f\"\\t{language}\")\n"
      ],
      "metadata": {
        "id": "tXuoOkfgmLVF",
        "colab": {
          "base_uri": "https://localhost:8080/"
        },
        "outputId": "d1250e21-7ef7-412f-acb5-2607fd8bfe09"
      },
      "execution_count": null,
      "outputs": [
        {
          "output_type": "stream",
          "name": "stdout",
          "text": [
            "\n",
            "jen's favorite languages are:\n",
            "\tpython\n",
            "\truby\n",
            "\n",
            "sarah's favorite languages are:\n",
            "\tc\n",
            "\n",
            "edward's favorite languages are:\n",
            "\truby\n",
            "\tgo\n",
            "\n",
            "phil's favorite languages are:\n",
            "\tpython\n",
            "\thaskell\n"
          ]
        }
      ]
    },
    {
      "cell_type": "markdown",
      "source": [
        "---\n",
        "\n",
        "<b> Ejercicio 1</b>\n",
        "\n",
        "Cree tres nuevos diccionarios que representen a diferentes personas y almacene los tres diccionarios en una lista llamada personas. Recorra su lista de personas. Mientras recorre la lista, imprima todo lo que sabe sobre cada persona.\n"
      ],
      "metadata": {
        "id": "3JJTjbfhmwks"
      }
    },
    {
      "cell_type": "code",
      "source": [
        "persona_1 = {'nombre':'Cristian','edad':22}\n",
        "persona_2 = {'nombre':'Diego','edad':18}\n",
        "persona_3 = {'nombre':'Marisol','edad':46}\n",
        "\n",
        "personas = [persona_1,persona_2,persona_3]\n",
        "\n",
        "#print(personas)\n",
        "\n",
        "for persona in personas:\n",
        "  print(f\"Hola me llamo {persona['nombre']} y tengo {persona['edad']} años.\")"
      ],
      "metadata": {
        "id": "jpZ2Q1W73Fp-"
      },
      "execution_count": null,
      "outputs": []
    },
    {
      "cell_type": "markdown",
      "source": [
        "---\n",
        "\n",
        "<b> Ejercicio 2</b>\n",
        "\n",
        "Haga varios diccionarios, donde cada diccionario represente una mascota diferente. En cada diccionario, incluya el tipo de animal y el nombre del dueño. Guarde estos diccionarios en una lista llamada mascotas. A continuación, recorra su lista y, mientras lo hace, imprima todo lo que sepa sobre cada mascota."
      ],
      "metadata": {
        "id": "oU2XiQHAnAtB"
      }
    },
    {
      "cell_type": "markdown",
      "source": [
        "---\n",
        "\n",
        "<b> Ejercicio 3</b>\n",
        "\n",
        "Haga un diccionario llamado lugares_favoritos. Piense en tres nombres para usar como llaves en el diccionario y almacene de uno a tres lugares favoritos para cada persona. Recorre el diccionario e imprime el nombre de cada persona y sus lugares favoritos."
      ],
      "metadata": {
        "id": "YH2BoPpVnMLu"
      }
    },
    {
      "cell_type": "markdown",
      "source": [
        "---\n",
        "\n",
        "<b> Ejercicio 4</b>\n",
        "\n",
        "Haz un diccionario llamado ciudades. Usa los nombres de tres ciudades como llaves en tu diccionario. Cree un diccionario de información sobre cada ciudad e incluya el país en el que se encuentra la ciudad, su población aproximada y un dato sobre esa ciudad. Las claves para el diccionario de cada ciudad deben ser algo como país, población y hecho. Imprime el nombre de cada ciudad y toda la información que tengas almacenada sobre ella."
      ],
      "metadata": {
        "id": "YjkTHXHWnY-y"
      }
    },
    {
      "cell_type": "markdown",
      "source": [
        "---\n",
        "\n",
        "<b> Ejercicio 5</b>\n",
        "\n",
        "Ahora estamos trabajando con ejemplos que son lo suficientemente complejos como para que puedan extenderse de varias maneras. Utilice uno de los programas de este laboratorio y amplíelo agregando nuevas claves y valores, cambiando el contexto del programa o mejorando el formato de la salida.\n",
        "\n",
        "---"
      ],
      "metadata": {
        "id": "hMvNIar-nqAr"
      }
    },
    {
      "cell_type": "markdown",
      "source": [
        "---\n",
        "\n",
        "# Gracias por completar este laboratorio!\n",
        "\n",
        "---\n"
      ],
      "metadata": {
        "id": "LY_03M0BoJZQ"
      }
    }
  ]
}