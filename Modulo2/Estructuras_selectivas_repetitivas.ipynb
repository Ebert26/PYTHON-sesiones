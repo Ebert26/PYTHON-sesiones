{
  "nbformat": 4,
  "nbformat_minor": 0,
  "metadata": {
    "colab": {
      "name": "modulo 2.ipynb",
      "provenance": [],
      "include_colab_link": true
    },
    "kernelspec": {
      "name": "python3",
      "display_name": "Python 3"
    },
    "language_info": {
      "name": "python"
    }
  },
  "cells": [
    {
      "cell_type": "markdown",
      "metadata": {
        "id": "view-in-github",
        "colab_type": "text"
      },
      "source": [
        "<a href=\"https://colab.research.google.com/github/Ebert26/PYTHON-sesiones/blob/main/Modulo2/Estructuras_selectivas_repetitivas.ipynb\" target=\"_parent\"><img src=\"https://colab.research.google.com/assets/colab-badge.svg\" alt=\"Open In Colab\"/></a>"
      ]
    },
    {
      "cell_type": "markdown",
      "source": [
        "<img src=\"https://www.ctic.uni.edu.pe/wp-content/uploads/2022/04/588px-x-348px-web-1.png\" alt=\"HTML5 Icon\" width=\"900\" height=\"350\" >\n"
      ],
      "metadata": {
        "id": "qCg1zV0_DK0j"
      }
    },
    {
      "cell_type": "markdown",
      "source": [
        "<h1 align=center><font size = 5>UNIDAD II - ESTRUCTURAS SELECTIVAS Y REPETITIVAS\n",
        "</font></h1>\n",
        "\n",
        "---"
      ],
      "metadata": {
        "id": "XJ-qSpecBnPA"
      }
    },
    {
      "cell_type": "markdown",
      "source": [
        "## Tabla de Contenidos\n",
        "\n",
        "<div class=\"alert alert-block alert-info\" style=\"margin-top: 20px\">\n",
        "\n",
        "<font size = 3>\n",
        "    \n",
        "1. <a href=\"#item31\">Introducción al entorno Python</a>  \n",
        "2. <a href=\"#item31\">Sentencias IF</a>  \n",
        "3. <a href=\"#item31\">Sentencias While</a>  \n",
        "4. <a href=\"#item31\">Sentencias For</a>  \n",
        "\n",
        "</font>\n",
        "</div>\n",
        "\n",
        "---"
      ],
      "metadata": {
        "id": "-METXVBCB-AX"
      }
    },
    {
      "cell_type": "markdown",
      "source": [
        "#1. Introducción al entorno Python"
      ],
      "metadata": {
        "id": "32lFkXesCLmU"
      }
    },
    {
      "cell_type": "markdown",
      "source": [
        "### Verificando la versión de Python"
      ],
      "metadata": {
        "id": "SdnlyoStB_pK"
      }
    },
    {
      "cell_type": "code",
      "source": [
        "!python3"
      ],
      "metadata": {
        "id": "xFe_fHtsApoC",
        "colab": {
          "base_uri": "https://localhost:8080/"
        },
        "outputId": "24e6e57c-8856-428d-9b97-32d863862942"
      },
      "execution_count": null,
      "outputs": [
        {
          "output_type": "stream",
          "name": "stdout",
          "text": [
            "\n",
            "KeyboardInterrupt\n",
            ">>> \n",
            "KeyboardInterrupt\n",
            ">>> "
          ]
        }
      ]
    },
    {
      "cell_type": "code",
      "source": [],
      "metadata": {
        "id": "VcqbB3Sd5SSX"
      },
      "execution_count": null,
      "outputs": []
    },
    {
      "cell_type": "code",
      "source": [],
      "metadata": {
        "id": "oYjdb5k15So9"
      },
      "execution_count": null,
      "outputs": []
    },
    {
      "cell_type": "markdown",
      "source": [
        "### Ejecutando en Python"
      ],
      "metadata": {
        "id": "t1iB2a_1A_Nd"
      }
    },
    {
      "cell_type": "code",
      "source": [
        "print(\"Hello Python interpreter!\")"
      ],
      "metadata": {
        "id": "_GUyponPAi_Z",
        "colab": {
          "base_uri": "https://localhost:8080/"
        },
        "outputId": "2f234235-893b-4874-c3c2-0d5077dd4f57"
      },
      "execution_count": null,
      "outputs": [
        {
          "output_type": "stream",
          "name": "stdout",
          "text": [
            "Hello Python interpreter!\n"
          ]
        }
      ]
    },
    {
      "cell_type": "code",
      "source": [
        "(-1)**4\n"
      ],
      "metadata": {
        "id": "OrHM-cIQ6_Tj",
        "outputId": "a2b6c690-8be5-484f-91c7-f4f6e4597edd",
        "colab": {
          "base_uri": "https://localhost:8080/"
        }
      },
      "execution_count": null,
      "outputs": [
        {
          "output_type": "execute_result",
          "data": {
            "text/plain": [
              "1"
            ]
          },
          "metadata": {},
          "execution_count": 6
        }
      ]
    },
    {
      "cell_type": "markdown",
      "source": [
        "### Variables en Python"
      ],
      "metadata": {
        "id": "sthjyiw1BYm4"
      }
    },
    {
      "cell_type": "code",
      "source": [
        "message = \"Hello Python world!\"\n",
        "print(message)"
      ],
      "metadata": {
        "id": "mGbrzOEtBa7g",
        "colab": {
          "base_uri": "https://localhost:8080/"
        },
        "outputId": "652d55c4-bc3f-498e-c083-f2ab7729975c"
      },
      "execution_count": null,
      "outputs": [
        {
          "output_type": "stream",
          "name": "stdout",
          "text": [
            "Hello Python world!\n"
          ]
        }
      ]
    },
    {
      "cell_type": "code",
      "source": [
        "print(message)"
      ],
      "metadata": {
        "id": "KECQKmxo8F-R",
        "outputId": "a17cfa17-5529-4866-fb3a-4c323e706a4c",
        "colab": {
          "base_uri": "https://localhost:8080/"
        }
      },
      "execution_count": null,
      "outputs": [
        {
          "output_type": "stream",
          "name": "stdout",
          "text": [
            "Hello Python world!\n"
          ]
        }
      ]
    },
    {
      "cell_type": "markdown",
      "source": [
        "### Usando variables con strings"
      ],
      "metadata": {
        "id": "67A0ZgROBH2G"
      }
    },
    {
      "cell_type": "code",
      "source": [
        "first_name = \"John\"\n",
        "last_name = \"Caballero\"\n",
        "\n",
        "full_name = f\"Bienvenido {first_name} {last_name}\"\n",
        "print(full_name)\n"
      ],
      "metadata": {
        "id": "imkWRD_NGhM7",
        "colab": {
          "base_uri": "https://localhost:8080/"
        },
        "outputId": "25c2c9cc-1121-412d-9f25-8e082dfc0906"
      },
      "execution_count": null,
      "outputs": [
        {
          "output_type": "stream",
          "name": "stdout",
          "text": [
            "Bienvenido John Caballero\n"
          ]
        }
      ]
    },
    {
      "cell_type": "code",
      "source": [
        "first_name = str(input('Ingrese el primer nombre: '))\n",
        "last_name = str(input('Ingrese el apellido: '))\n",
        "\n",
        "full_name = f\"{first_name} {last_name}\"\n",
        "print(f\"Bienvenido {full_name}!\")\n"
      ],
      "metadata": {
        "id": "ldadfir2G-ee",
        "outputId": "c85c69ff-b576-4fe8-e692-888555957cc1",
        "colab": {
          "base_uri": "https://localhost:8080/"
        }
      },
      "execution_count": null,
      "outputs": [
        {
          "output_type": "stream",
          "name": "stdout",
          "text": [
            "Ingrese el primer nombre: juan\n",
            "Ingrese el apellido: caballero\n",
            "Bienvenido juan caballero!\n"
          ]
        }
      ]
    },
    {
      "cell_type": "code",
      "source": [
        "print(f\"Hola, {full_name.title()}!\")"
      ],
      "metadata": {
        "id": "9DXlUqRdHWpy"
      },
      "execution_count": null,
      "outputs": []
    },
    {
      "cell_type": "code",
      "source": [
        "message = f\"Hola, {full_name.title()}!\"\n",
        "print(message)"
      ],
      "metadata": {
        "id": "ovwhbcW4HnNO"
      },
      "execution_count": null,
      "outputs": []
    },
    {
      "cell_type": "code",
      "source": [
        "print(\"Python\")"
      ],
      "metadata": {
        "id": "d7c9EIszIADO",
        "colab": {
          "base_uri": "https://localhost:8080/"
        },
        "outputId": "8f600d33-c61b-4b56-a3fa-6c9c9e523b50"
      },
      "execution_count": null,
      "outputs": [
        {
          "output_type": "stream",
          "name": "stdout",
          "text": [
            "Python\n"
          ]
        }
      ]
    },
    {
      "cell_type": "code",
      "source": [
        "print(\"Python's\")"
      ],
      "metadata": {
        "colab": {
          "base_uri": "https://localhost:8080/"
        },
        "id": "ypepBjltTCHR",
        "outputId": "bb6afd56-83dc-4869-8ed5-320c27cd27c7"
      },
      "execution_count": null,
      "outputs": [
        {
          "output_type": "stream",
          "name": "stdout",
          "text": [
            "Python's\n"
          ]
        }
      ]
    },
    {
      "cell_type": "code",
      "source": [
        "print(\"\\tPython\")"
      ],
      "metadata": {
        "id": "hGmARCyTH_8F"
      },
      "execution_count": null,
      "outputs": []
    },
    {
      "cell_type": "code",
      "source": [
        "print(\"Languages:\\nPython\\nC\\nJavaScript\")"
      ],
      "metadata": {
        "id": "7sLWgXNbH_zY",
        "colab": {
          "base_uri": "https://localhost:8080/"
        },
        "outputId": "d5c0834b-6949-4e11-8b16-6b14a673adf6"
      },
      "execution_count": null,
      "outputs": [
        {
          "output_type": "stream",
          "name": "stdout",
          "text": [
            "Languages:\n",
            "Python\n",
            "C\n",
            "JavaScript\n"
          ]
        }
      ]
    },
    {
      "cell_type": "code",
      "source": [
        "print(\"Languages:\\n\\tPython\\n\\tC\\n\\tJavaScript\")"
      ],
      "metadata": {
        "id": "GHwzRJQeIgCo",
        "colab": {
          "base_uri": "https://localhost:8080/"
        },
        "outputId": "f64ce85a-7d83-491f-870b-4bba77ff6550"
      },
      "execution_count": null,
      "outputs": [
        {
          "output_type": "stream",
          "name": "stdout",
          "text": [
            "Languages:\n",
            "\tPython\n",
            "\tC\n",
            "\tJavaScript\n"
          ]
        }
      ]
    },
    {
      "cell_type": "markdown",
      "source": [
        "### Espacios en python"
      ],
      "metadata": {
        "id": "uV4g9yt5It7q"
      }
    },
    {
      "cell_type": "code",
      "source": [
        "favorite_language = 'python '\n",
        "favorite_language"
      ],
      "metadata": {
        "id": "3WM1AbohIpnt",
        "colab": {
          "base_uri": "https://localhost:8080/",
          "height": 35
        },
        "outputId": "2d28de54-5cd0-49aa-93c8-dfeccc411556"
      },
      "execution_count": null,
      "outputs": [
        {
          "output_type": "execute_result",
          "data": {
            "text/plain": [
              "'python '"
            ],
            "application/vnd.google.colaboratory.intrinsic+json": {
              "type": "string"
            }
          },
          "metadata": {},
          "execution_count": 21
        }
      ]
    },
    {
      "cell_type": "code",
      "source": [
        "favorite_language.rstrip()"
      ],
      "metadata": {
        "id": "L465tOhkIqNd",
        "colab": {
          "base_uri": "https://localhost:8080/",
          "height": 35
        },
        "outputId": "02d4f13c-6258-49b7-d800-7bae358427f8"
      },
      "execution_count": null,
      "outputs": [
        {
          "output_type": "execute_result",
          "data": {
            "text/plain": [
              "'python'"
            ],
            "application/vnd.google.colaboratory.intrinsic+json": {
              "type": "string"
            }
          },
          "metadata": {},
          "execution_count": 22
        }
      ]
    },
    {
      "cell_type": "code",
      "source": [
        "favorite_language"
      ],
      "metadata": {
        "id": "7AFWklYBJzQ6",
        "colab": {
          "base_uri": "https://localhost:8080/",
          "height": 35
        },
        "outputId": "9fd9c1ac-67e1-4e17-bd3d-3dab872f2766"
      },
      "execution_count": null,
      "outputs": [
        {
          "output_type": "execute_result",
          "data": {
            "text/plain": [
              "'python '"
            ],
            "application/vnd.google.colaboratory.intrinsic+json": {
              "type": "string"
            }
          },
          "metadata": {},
          "execution_count": 23
        }
      ]
    },
    {
      "cell_type": "code",
      "source": [
        "favorite_language = 'python '\n",
        "favorite_language = favorite_language.rstrip()\n",
        "favorite_language"
      ],
      "metadata": {
        "id": "9fqYGKCRJk1R",
        "colab": {
          "base_uri": "https://localhost:8080/",
          "height": 35
        },
        "outputId": "ede5bfc0-52f2-42e3-e90d-81f507cff7a4"
      },
      "execution_count": null,
      "outputs": [
        {
          "output_type": "execute_result",
          "data": {
            "text/plain": [
              "'python'"
            ],
            "application/vnd.google.colaboratory.intrinsic+json": {
              "type": "string"
            }
          },
          "metadata": {},
          "execution_count": 24
        }
      ]
    },
    {
      "cell_type": "code",
      "source": [
        "favorite_language = ' python '\n",
        "favorite_language"
      ],
      "metadata": {
        "id": "3uDiKbdIKI0M",
        "colab": {
          "base_uri": "https://localhost:8080/",
          "height": 35
        },
        "outputId": "50664bfe-5bd5-4189-8d13-c18d3188398b"
      },
      "execution_count": null,
      "outputs": [
        {
          "output_type": "execute_result",
          "data": {
            "text/plain": [
              "' python '"
            ],
            "application/vnd.google.colaboratory.intrinsic+json": {
              "type": "string"
            }
          },
          "metadata": {},
          "execution_count": 25
        }
      ]
    },
    {
      "cell_type": "code",
      "source": [
        "favorite_language.rstrip()"
      ],
      "metadata": {
        "id": "FbVFEWqQKSwS",
        "colab": {
          "base_uri": "https://localhost:8080/",
          "height": 35
        },
        "outputId": "f8bdbff3-6125-456e-d7c3-8d0ef46906ff"
      },
      "execution_count": null,
      "outputs": [
        {
          "output_type": "execute_result",
          "data": {
            "text/plain": [
              "' python'"
            ],
            "application/vnd.google.colaboratory.intrinsic+json": {
              "type": "string"
            }
          },
          "metadata": {},
          "execution_count": 26
        }
      ]
    },
    {
      "cell_type": "code",
      "source": [
        "favorite_language.lstrip()"
      ],
      "metadata": {
        "id": "tE4HafwRKJx6",
        "colab": {
          "base_uri": "https://localhost:8080/",
          "height": 35
        },
        "outputId": "d6fb4566-dab0-4286-e63a-8e9d678b4d2a"
      },
      "execution_count": null,
      "outputs": [
        {
          "output_type": "execute_result",
          "data": {
            "text/plain": [
              "'python '"
            ],
            "application/vnd.google.colaboratory.intrinsic+json": {
              "type": "string"
            }
          },
          "metadata": {},
          "execution_count": 27
        }
      ]
    },
    {
      "cell_type": "code",
      "source": [
        "favorite_language.strip()"
      ],
      "metadata": {
        "id": "ZgZ9X5kgKJUS",
        "colab": {
          "base_uri": "https://localhost:8080/",
          "height": 35
        },
        "outputId": "eff97884-f02b-445b-f6d5-49ac994966c7"
      },
      "execution_count": null,
      "outputs": [
        {
          "output_type": "execute_result",
          "data": {
            "text/plain": [
              "'python'"
            ],
            "application/vnd.google.colaboratory.intrinsic+json": {
              "type": "string"
            }
          },
          "metadata": {},
          "execution_count": 28
        }
      ]
    },
    {
      "cell_type": "code",
      "source": [],
      "metadata": {
        "id": "bVmZPEwGa3PR"
      },
      "execution_count": null,
      "outputs": []
    },
    {
      "cell_type": "markdown",
      "source": [
        "### Problemas comunes"
      ],
      "metadata": {
        "id": "RSYDstcmLdkD"
      }
    },
    {
      "cell_type": "code",
      "source": [
        "message = \"El libro 'Harry Potter' fue un best seller\"\n",
        "print(message)"
      ],
      "metadata": {
        "colab": {
          "base_uri": "https://localhost:8080/"
        },
        "id": "Tm8cU1yqLc5M",
        "outputId": "6dc463c8-ab88-40d9-cd7d-fd4d17d9baf9"
      },
      "execution_count": null,
      "outputs": [
        {
          "output_type": "stream",
          "name": "stdout",
          "text": [
            "El libro 'Harry Potter' fue un best seller\n"
          ]
        }
      ]
    },
    {
      "cell_type": "code",
      "source": [
        "message = 'One of Python's strengths is its diverse community.'\n",
        "print(message)"
      ],
      "metadata": {
        "id": "nxUO09lkNFuk",
        "colab": {
          "base_uri": "https://localhost:8080/",
          "height": 131
        },
        "outputId": "d2a5a80e-22f3-476b-a39a-046f7182e927"
      },
      "execution_count": null,
      "outputs": [
        {
          "output_type": "error",
          "ename": "SyntaxError",
          "evalue": "ignored",
          "traceback": [
            "\u001b[0;36m  File \u001b[0;32m\"<ipython-input-30-a9250de55b39>\"\u001b[0;36m, line \u001b[0;32m1\u001b[0m\n\u001b[0;31m    message = 'One of Python's strengths is its diverse community.'\u001b[0m\n\u001b[0m                             ^\u001b[0m\n\u001b[0;31mSyntaxError\u001b[0m\u001b[0;31m:\u001b[0m invalid syntax\n"
          ]
        }
      ]
    },
    {
      "cell_type": "markdown",
      "source": [
        "### Números"
      ],
      "metadata": {
        "id": "cf-y9DtENQLY"
      }
    },
    {
      "cell_type": "code",
      "source": [
        "2 + 3"
      ],
      "metadata": {
        "id": "NU8oYEG9NPWl",
        "colab": {
          "base_uri": "https://localhost:8080/"
        },
        "outputId": "46c9b945-04ab-4853-b569-6132cc68393e"
      },
      "execution_count": null,
      "outputs": [
        {
          "output_type": "execute_result",
          "data": {
            "text/plain": [
              "5"
            ]
          },
          "metadata": {},
          "execution_count": 7
        }
      ]
    },
    {
      "cell_type": "code",
      "source": [
        "3 ** 2"
      ],
      "metadata": {
        "id": "UR4mC6E-Nbhw",
        "colab": {
          "base_uri": "https://localhost:8080/"
        },
        "outputId": "311c6947-dfb8-4e28-d15e-0e11988b3c98"
      },
      "execution_count": null,
      "outputs": [
        {
          "output_type": "execute_result",
          "data": {
            "text/plain": [
              "9"
            ]
          },
          "metadata": {},
          "execution_count": 8
        }
      ]
    },
    {
      "cell_type": "code",
      "source": [
        "(2 + 3) * 4"
      ],
      "metadata": {
        "id": "K_Gln-FfNeO9",
        "colab": {
          "base_uri": "https://localhost:8080/"
        },
        "outputId": "ae0d6776-2bff-481b-b84d-cb1e6f214543"
      },
      "execution_count": null,
      "outputs": [
        {
          "output_type": "execute_result",
          "data": {
            "text/plain": [
              "20"
            ]
          },
          "metadata": {},
          "execution_count": 9
        }
      ]
    },
    {
      "cell_type": "markdown",
      "source": [
        "### Floats"
      ],
      "metadata": {
        "id": "ubo6p0b-NhjD"
      }
    },
    {
      "cell_type": "code",
      "source": [
        "0.1 + 0.1"
      ],
      "metadata": {
        "id": "RQxlR6oyNmoG",
        "colab": {
          "base_uri": "https://localhost:8080/"
        },
        "outputId": "f723d894-6461-4cb2-a69a-c651e2a44f99"
      },
      "execution_count": null,
      "outputs": [
        {
          "output_type": "execute_result",
          "data": {
            "text/plain": [
              "0.2"
            ]
          },
          "metadata": {},
          "execution_count": 10
        }
      ]
    },
    {
      "cell_type": "code",
      "source": [
        "2 * 0.2"
      ],
      "metadata": {
        "id": "uWQ-911qNskj",
        "colab": {
          "base_uri": "https://localhost:8080/"
        },
        "outputId": "67a1872e-1633-4aad-cc80-0c0dc7da231d"
      },
      "execution_count": null,
      "outputs": [
        {
          "output_type": "execute_result",
          "data": {
            "text/plain": [
              "0.4"
            ]
          },
          "metadata": {},
          "execution_count": 11
        }
      ]
    },
    {
      "cell_type": "code",
      "source": [
        "0.2 + 0.1"
      ],
      "metadata": {
        "id": "BcImgVOtNySt",
        "colab": {
          "base_uri": "https://localhost:8080/"
        },
        "outputId": "e31509b7-8f0a-4026-ac16-9cfb5c103b65"
      },
      "execution_count": null,
      "outputs": [
        {
          "output_type": "execute_result",
          "data": {
            "text/plain": [
              "0.30000000000000004"
            ]
          },
          "metadata": {},
          "execution_count": 12
        }
      ]
    },
    {
      "cell_type": "markdown",
      "source": [
        "### Enteros y Floats"
      ],
      "metadata": {
        "id": "a_1vW_FNOIf5"
      }
    },
    {
      "cell_type": "code",
      "source": [
        "4/2"
      ],
      "metadata": {
        "id": "iN7X2ZWWOLFS",
        "colab": {
          "base_uri": "https://localhost:8080/"
        },
        "outputId": "10ebf39f-e7a2-4c0d-d385-654e5d413933"
      },
      "execution_count": null,
      "outputs": [
        {
          "output_type": "execute_result",
          "data": {
            "text/plain": [
              "2.0"
            ]
          },
          "metadata": {},
          "execution_count": 13
        }
      ]
    },
    {
      "cell_type": "code",
      "source": [
        "1 + 2.0"
      ],
      "metadata": {
        "id": "D9dA2ELhORGk",
        "colab": {
          "base_uri": "https://localhost:8080/"
        },
        "outputId": "e554477b-8d2c-4648-d22f-5053bc8a25b2"
      },
      "execution_count": null,
      "outputs": [
        {
          "output_type": "execute_result",
          "data": {
            "text/plain": [
              "3.0"
            ]
          },
          "metadata": {},
          "execution_count": 14
        }
      ]
    },
    {
      "cell_type": "code",
      "source": [
        "1*3.0"
      ],
      "metadata": {
        "colab": {
          "base_uri": "https://localhost:8080/"
        },
        "id": "wwDLo_S_Vhpr",
        "outputId": "6d919881-4fba-4f75-a705-530790908130"
      },
      "execution_count": null,
      "outputs": [
        {
          "output_type": "execute_result",
          "data": {
            "text/plain": [
              "3.0"
            ]
          },
          "metadata": {},
          "execution_count": 15
        }
      ]
    },
    {
      "cell_type": "markdown",
      "source": [
        "### Guiones bajos en números"
      ],
      "metadata": {
        "id": "8ICC-mT0OsHE"
      }
    },
    {
      "cell_type": "code",
      "source": [
        "universe_age = 14_000_000_000\n",
        "print(universe_age)"
      ],
      "metadata": {
        "id": "9a4-mKc8OqI8",
        "colab": {
          "base_uri": "https://localhost:8080/"
        },
        "outputId": "d3088d26-5101-4e40-9c67-9e029844cff0"
      },
      "execution_count": null,
      "outputs": [
        {
          "output_type": "stream",
          "name": "stdout",
          "text": [
            "14000000000\n"
          ]
        }
      ]
    },
    {
      "cell_type": "markdown",
      "source": [
        "### Asignación Múltiple"
      ],
      "metadata": {
        "id": "53q3i_pyPEey"
      }
    },
    {
      "cell_type": "code",
      "source": [
        "a, b = 1, 2\n",
        "b"
      ],
      "metadata": {
        "colab": {
          "base_uri": "https://localhost:8080/"
        },
        "id": "Tp7oXgPsWQzf",
        "outputId": "08832abe-e1a7-4e16-c075-b8b8edfa5db1"
      },
      "execution_count": null,
      "outputs": [
        {
          "output_type": "execute_result",
          "data": {
            "text/plain": [
              "2"
            ]
          },
          "metadata": {},
          "execution_count": 46
        }
      ]
    },
    {
      "cell_type": "code",
      "source": [
        "x, y, z = 0, 0, 0"
      ],
      "metadata": {
        "id": "jZIDGHQePh6B"
      },
      "execution_count": null,
      "outputs": []
    },
    {
      "cell_type": "code",
      "source": [
        "y"
      ],
      "metadata": {
        "id": "lQR7E1gtPiyR",
        "colab": {
          "base_uri": "https://localhost:8080/"
        },
        "outputId": "a1ed4d04-9b0f-4e53-b0ab-f6e6d8f88a13"
      },
      "execution_count": null,
      "outputs": [
        {
          "output_type": "execute_result",
          "data": {
            "text/plain": [
              "0"
            ]
          },
          "metadata": {},
          "execution_count": 48
        }
      ]
    },
    {
      "cell_type": "markdown",
      "source": [
        "### Constantes"
      ],
      "metadata": {
        "id": "pncAPB7TPruo"
      }
    },
    {
      "cell_type": "code",
      "source": [
        "MAX_CONNECTIONS = 5000"
      ],
      "metadata": {
        "id": "AUR_RlTEPvZZ"
      },
      "execution_count": null,
      "outputs": []
    },
    {
      "cell_type": "markdown",
      "source": [
        "<b> Ejercicio </b>\n",
        "\n",
        "Usa una variable para representar un número. Luego, usando esa variable, cree un mensaje que revele su número. Imprime ese mensaje."
      ],
      "metadata": {
        "id": "CpJsuNbVRKZ3"
      }
    },
    {
      "cell_type": "markdown",
      "source": [
        "Doble-click __aquí__ para ver la solución.\n",
        "<!-- La respuesta es:\n",
        "num = 12\n",
        "print(f\"El número es {num}\")\n",
        "-->\n",
        "\n"
      ],
      "metadata": {
        "id": "jMC81ZCBTmJc"
      }
    },
    {
      "cell_type": "code",
      "source": [
        "numero = 50\n",
        "print(f'el numero es: {numero}')"
      ],
      "metadata": {
        "id": "EqqAVj_VfFsS",
        "outputId": "523c4e92-7519-4393-a5ab-1cbb71a4413a",
        "colab": {
          "base_uri": "https://localhost:8080/"
        }
      },
      "execution_count": null,
      "outputs": [
        {
          "output_type": "stream",
          "name": "stdout",
          "text": [
            "el numero es: 50\n"
          ]
        }
      ]
    },
    {
      "cell_type": "markdown",
      "source": [
        "### Comentarios"
      ],
      "metadata": {
        "id": "VAUMMfzqQ_OK"
      }
    },
    {
      "cell_type": "code",
      "source": [
        "# Código para saludar.\n",
        "print(\"Hola programadores de Python!\")"
      ],
      "metadata": {
        "id": "MHCgX32dOnPy",
        "colab": {
          "base_uri": "https://localhost:8080/"
        },
        "outputId": "ec269833-bdab-4f77-f2e8-1a39a2f92291"
      },
      "execution_count": null,
      "outputs": [
        {
          "output_type": "stream",
          "name": "stdout",
          "text": [
            "Hola programadores de Python!\n"
          ]
        }
      ]
    },
    {
      "cell_type": "markdown",
      "source": [
        "### El Zen de Python"
      ],
      "metadata": {
        "id": "XTsX-ps8mIBd"
      }
    },
    {
      "cell_type": "code",
      "source": [
        "import this"
      ],
      "metadata": {
        "id": "dB9VCvLST7Gp",
        "colab": {
          "base_uri": "https://localhost:8080/"
        },
        "outputId": "42af9fb3-a02f-4b2f-f121-e6097faa40b0"
      },
      "execution_count": null,
      "outputs": [
        {
          "output_type": "stream",
          "name": "stdout",
          "text": [
            "The Zen of Python, by Tim Peters\n",
            "\n",
            "Beautiful is better than ugly.\n",
            "Explicit is better than implicit.\n",
            "Simple is better than complex.\n",
            "Complex is better than complicated.\n",
            "Flat is better than nested.\n",
            "Sparse is better than dense.\n",
            "Readability counts.\n",
            "Special cases aren't special enough to break the rules.\n",
            "Although practicality beats purity.\n",
            "Errors should never pass silently.\n",
            "Unless explicitly silenced.\n",
            "In the face of ambiguity, refuse the temptation to guess.\n",
            "There should be one-- and preferably only one --obvious way to do it.\n",
            "Although that way may not be obvious at first unless you're Dutch.\n",
            "Now is better than never.\n",
            "Although never is often better than *right* now.\n",
            "If the implementation is hard to explain, it's a bad idea.\n",
            "If the implementation is easy to explain, it may be a good idea.\n",
            "Namespaces are one honking great idea -- let's do more of those!\n"
          ]
        }
      ]
    },
    {
      "cell_type": "markdown",
      "source": [
        "### Introducción a listas"
      ],
      "metadata": {
        "id": "nsNQXu4ScwxS"
      }
    },
    {
      "cell_type": "code",
      "source": [
        "a = ['John', 'Ricardo', 'Marcelo', 'Heidy', 'Nataly']\n",
        "a"
      ],
      "metadata": {
        "colab": {
          "base_uri": "https://localhost:8080/"
        },
        "id": "ac3vjbHibA42",
        "outputId": "97ad9e3a-8db6-4468-e9d8-65f328f97f2a"
      },
      "execution_count": null,
      "outputs": [
        {
          "output_type": "execute_result",
          "data": {
            "text/plain": [
              "['John', 'Ricardo', 'Marcelo', 'Heidy', 'Nataly']"
            ]
          },
          "metadata": {},
          "execution_count": 19
        }
      ]
    },
    {
      "cell_type": "code",
      "source": [
        "type(a)"
      ],
      "metadata": {
        "id": "TGDaXjgZbBiL",
        "outputId": "f3e7e05c-4f4c-4705-9b46-c346272d4c9d",
        "colab": {
          "base_uri": "https://localhost:8080/"
        }
      },
      "execution_count": null,
      "outputs": [
        {
          "output_type": "execute_result",
          "data": {
            "text/plain": [
              "list"
            ]
          },
          "metadata": {},
          "execution_count": 27
        }
      ]
    },
    {
      "cell_type": "code",
      "source": [
        "a = [1, 10, 4, 5, 99.0]\n",
        "a"
      ],
      "metadata": {
        "colab": {
          "base_uri": "https://localhost:8080/"
        },
        "id": "v4lFhW1sbg_2",
        "outputId": "fe1a9c8d-8849-4d09-b3a5-e4ea9a61ce1a"
      },
      "execution_count": null,
      "outputs": [
        {
          "output_type": "execute_result",
          "data": {
            "text/plain": [
              "[1, 10, 4, 5, 99.0]"
            ]
          },
          "metadata": {},
          "execution_count": 20
        }
      ]
    },
    {
      "cell_type": "code",
      "source": [
        "a = [1, 10, 4, 5, 'Nataly']\n",
        "a"
      ],
      "metadata": {
        "colab": {
          "base_uri": "https://localhost:8080/"
        },
        "id": "pz_NpJO6brs0",
        "outputId": "14a30aae-8bbf-42de-ef33-75c79626d360"
      },
      "execution_count": null,
      "outputs": [
        {
          "output_type": "execute_result",
          "data": {
            "text/plain": [
              "[1, 10, 4, 5, 'Nataly']"
            ]
          },
          "metadata": {},
          "execution_count": 21
        }
      ]
    },
    {
      "cell_type": "code",
      "source": [
        "a = [1, 10, 4, 5, None]\n",
        "a"
      ],
      "metadata": {
        "colab": {
          "base_uri": "https://localhost:8080/"
        },
        "id": "0ufNgmA_b0M4",
        "outputId": "340ea07e-1e85-45cf-a0ac-5988aac305af"
      },
      "execution_count": null,
      "outputs": [
        {
          "output_type": "execute_result",
          "data": {
            "text/plain": [
              "[1, 10, 4, 5, None]"
            ]
          },
          "metadata": {},
          "execution_count": 22
        }
      ]
    },
    {
      "cell_type": "code",
      "source": [
        "a = [1, 10, 4, 5, [2, 3, 8]]\n",
        "a"
      ],
      "metadata": {
        "colab": {
          "base_uri": "https://localhost:8080/"
        },
        "id": "h35YXpuwb8ao",
        "outputId": "1e3802e1-fcc6-47eb-8c67-df40891c93aa"
      },
      "execution_count": null,
      "outputs": [
        {
          "output_type": "execute_result",
          "data": {
            "text/plain": [
              "[1, 10, 4, 5, [2, 3, 8]]"
            ]
          },
          "metadata": {},
          "execution_count": 23
        }
      ]
    },
    {
      "cell_type": "code",
      "source": [
        "a[0]"
      ],
      "metadata": {
        "colab": {
          "base_uri": "https://localhost:8080/"
        },
        "id": "PQTHxd5qcLbF",
        "outputId": "fea861d6-ec76-4c79-c345-b9c675a890b9"
      },
      "execution_count": null,
      "outputs": [
        {
          "output_type": "execute_result",
          "data": {
            "text/plain": [
              "1"
            ]
          },
          "metadata": {},
          "execution_count": 24
        }
      ]
    },
    {
      "cell_type": "code",
      "source": [
        "a[3]"
      ],
      "metadata": {
        "colab": {
          "base_uri": "https://localhost:8080/"
        },
        "id": "ePpVwfRzcadx",
        "outputId": "73e75dfb-2d7f-48e6-89af-ee73c0c74282"
      },
      "execution_count": null,
      "outputs": [
        {
          "output_type": "execute_result",
          "data": {
            "text/plain": [
              "5"
            ]
          },
          "metadata": {},
          "execution_count": 25
        }
      ]
    },
    {
      "cell_type": "code",
      "source": [
        "a[4][1]"
      ],
      "metadata": {
        "colab": {
          "base_uri": "https://localhost:8080/"
        },
        "id": "NDzQJNJHckjd",
        "outputId": "66020742-c647-4b97-b523-9c3924f99af2"
      },
      "execution_count": null,
      "outputs": [
        {
          "output_type": "execute_result",
          "data": {
            "text/plain": [
              "3"
            ]
          },
          "metadata": {},
          "execution_count": 26
        }
      ]
    },
    {
      "cell_type": "markdown",
      "source": [
        "# 2. Sentencias IF"
      ],
      "metadata": {
        "id": "AR6JaCmmRB6V"
      }
    },
    {
      "cell_type": "code",
      "source": [
        "cars = ['audi', 'bmw', 'subaru', 'toyota']\n",
        "\n",
        "for car in cars:\n",
        "  if car == 'bmw':\n",
        "    print(car.upper())\n",
        "  else:\n",
        "    print(car.title())"
      ],
      "metadata": {
        "id": "GY71b_kGmTAl",
        "outputId": "110b4b3a-4ccb-4d4f-87d5-7c4453b8fb44",
        "colab": {
          "base_uri": "https://localhost:8080/"
        }
      },
      "execution_count": null,
      "outputs": [
        {
          "output_type": "stream",
          "name": "stdout",
          "text": [
            "Audi\n",
            "BMW\n",
            "Subaru\n",
            "Toyota\n"
          ]
        }
      ]
    },
    {
      "cell_type": "markdown",
      "source": [
        "### Igualdades"
      ],
      "metadata": {
        "id": "NhyOyyLtnaLV"
      }
    },
    {
      "cell_type": "code",
      "source": [
        "1 = 2"
      ],
      "metadata": {
        "id": "YZkf5aLHmhde"
      },
      "execution_count": null,
      "outputs": []
    },
    {
      "cell_type": "code",
      "source": [
        "1 == 2"
      ],
      "metadata": {
        "id": "qi5sJLuUmR0m",
        "outputId": "13da47c9-3fff-4e01-f01d-21aefb02680a",
        "colab": {
          "base_uri": "https://localhost:8080/"
        }
      },
      "execution_count": null,
      "outputs": [
        {
          "output_type": "execute_result",
          "data": {
            "text/plain": [
              "False"
            ]
          },
          "metadata": {},
          "execution_count": 3
        }
      ]
    },
    {
      "cell_type": "code",
      "source": [
        "2 == 2"
      ],
      "metadata": {
        "id": "8T_pNL9gmoT8",
        "outputId": "ef1b665a-a235-4444-e8f2-4ee28c162945",
        "colab": {
          "base_uri": "https://localhost:8080/"
        }
      },
      "execution_count": null,
      "outputs": [
        {
          "output_type": "execute_result",
          "data": {
            "text/plain": [
              "True"
            ]
          },
          "metadata": {},
          "execution_count": 4
        }
      ]
    },
    {
      "cell_type": "code",
      "source": [
        "2 == 2.0"
      ],
      "metadata": {
        "id": "hSQ9bC3Vmy96",
        "outputId": "44af8ede-2bbd-4483-c4e8-bd30c2785b6a",
        "colab": {
          "base_uri": "https://localhost:8080/"
        }
      },
      "execution_count": null,
      "outputs": [
        {
          "output_type": "execute_result",
          "data": {
            "text/plain": [
              "True"
            ]
          },
          "metadata": {},
          "execution_count": 5
        }
      ]
    },
    {
      "cell_type": "code",
      "source": [
        "car = 'bmw'\n",
        "car == 'bmw'"
      ],
      "metadata": {
        "colab": {
          "base_uri": "https://localhost:8080/"
        },
        "id": "PukwJABJm1rP",
        "outputId": "c25a7352-b383-4c41-a8ba-a867cb0f50a9"
      },
      "execution_count": null,
      "outputs": [
        {
          "output_type": "execute_result",
          "data": {
            "text/plain": [
              "True"
            ]
          },
          "metadata": {},
          "execution_count": 6
        }
      ]
    },
    {
      "cell_type": "code",
      "source": [
        "car = 'audi'\n",
        "car == 'bmw'"
      ],
      "metadata": {
        "id": "cz5ibI_Wm9lq",
        "colab": {
          "base_uri": "https://localhost:8080/"
        },
        "outputId": "50b90c35-789b-4a54-de88-1cdf461eea1c"
      },
      "execution_count": null,
      "outputs": [
        {
          "output_type": "execute_result",
          "data": {
            "text/plain": [
              "False"
            ]
          },
          "metadata": {},
          "execution_count": 7
        }
      ]
    },
    {
      "cell_type": "markdown",
      "source": [
        "Ignorando Mayusculas en igualdades"
      ],
      "metadata": {
        "id": "yEggshtHom4j"
      }
    },
    {
      "cell_type": "code",
      "source": [
        "car = 'Audi'\n",
        "car == 'audi'"
      ],
      "metadata": {
        "id": "2tLQKu9KnLC3",
        "colab": {
          "base_uri": "https://localhost:8080/"
        },
        "outputId": "0d24dead-098c-427b-d370-76fbc1a1ba3a"
      },
      "execution_count": null,
      "outputs": [
        {
          "output_type": "execute_result",
          "data": {
            "text/plain": [
              "False"
            ]
          },
          "metadata": {},
          "execution_count": 8
        }
      ]
    },
    {
      "cell_type": "code",
      "source": [
        "car.lower()"
      ],
      "metadata": {
        "id": "VFNGrgdfnZPK",
        "colab": {
          "base_uri": "https://localhost:8080/",
          "height": 35
        },
        "outputId": "b2340a8c-c794-40b3-cdfd-01faa86382a4"
      },
      "execution_count": null,
      "outputs": [
        {
          "output_type": "execute_result",
          "data": {
            "text/plain": [
              "'audi'"
            ],
            "application/vnd.google.colaboratory.intrinsic+json": {
              "type": "string"
            }
          },
          "metadata": {},
          "execution_count": 9
        }
      ]
    },
    {
      "cell_type": "code",
      "source": [
        "car.upper()"
      ],
      "metadata": {
        "id": "8SDmobRZnNsl",
        "outputId": "43e28700-3e55-4df6-bcf9-8ea63849c894",
        "colab": {
          "base_uri": "https://localhost:8080/",
          "height": 35
        }
      },
      "execution_count": null,
      "outputs": [
        {
          "output_type": "execute_result",
          "data": {
            "text/plain": [
              "'AUDI'"
            ],
            "application/vnd.google.colaboratory.intrinsic+json": {
              "type": "string"
            }
          },
          "metadata": {},
          "execution_count": 10
        }
      ]
    },
    {
      "cell_type": "code",
      "source": [
        "car = 'Audi'\n",
        "car.lower() == 'audi'"
      ],
      "metadata": {
        "id": "WOnmTIX9m3IQ",
        "colab": {
          "base_uri": "https://localhost:8080/"
        },
        "outputId": "4c227d32-3dde-4ec3-e427-faf885f4f7e5"
      },
      "execution_count": null,
      "outputs": [
        {
          "output_type": "execute_result",
          "data": {
            "text/plain": [
              "True"
            ]
          },
          "metadata": {},
          "execution_count": 11
        }
      ]
    },
    {
      "cell_type": "code",
      "source": [
        "a = \"ESTE TEXTO ESTA EN MAYUSCULA\"\n",
        "print(a.lower())"
      ],
      "metadata": {
        "id": "a01X9heYSMyL",
        "outputId": "60ef37fb-1a33-4b12-8bd1-1c19cbe63720",
        "colab": {
          "base_uri": "https://localhost:8080/"
        }
      },
      "execution_count": null,
      "outputs": [
        {
          "output_type": "stream",
          "name": "stdout",
          "text": [
            "este texto esta en mayuscula\n"
          ]
        }
      ]
    },
    {
      "cell_type": "markdown",
      "source": [
        "### Desigualdades"
      ],
      "metadata": {
        "id": "QJzj1X6undzm"
      }
    },
    {
      "cell_type": "code",
      "source": [
        "1 != 2"
      ],
      "metadata": {
        "id": "9u0Sho8vno-g",
        "outputId": "61c4b4bb-bf76-4084-9723-7b5192f672b4",
        "colab": {
          "base_uri": "https://localhost:8080/"
        }
      },
      "execution_count": null,
      "outputs": [
        {
          "output_type": "execute_result",
          "data": {
            "text/plain": [
              "True"
            ]
          },
          "metadata": {},
          "execution_count": 13
        }
      ]
    },
    {
      "cell_type": "code",
      "source": [
        "'Audi' != 'audi'"
      ],
      "metadata": {
        "id": "EADKhXulntOP",
        "outputId": "928da80e-cca7-4177-94db-3cbd56f4ec1f",
        "colab": {
          "base_uri": "https://localhost:8080/"
        }
      },
      "execution_count": null,
      "outputs": [
        {
          "output_type": "execute_result",
          "data": {
            "text/plain": [
              "True"
            ]
          },
          "metadata": {},
          "execution_count": 14
        }
      ]
    },
    {
      "cell_type": "code",
      "source": [
        "2 != 2.0"
      ],
      "metadata": {
        "id": "lRCCtFKBnweq",
        "outputId": "3038e9e4-bffc-43a5-dda0-63427c557006",
        "colab": {
          "base_uri": "https://localhost:8080/"
        }
      },
      "execution_count": null,
      "outputs": [
        {
          "output_type": "execute_result",
          "data": {
            "text/plain": [
              "False"
            ]
          },
          "metadata": {},
          "execution_count": 15
        }
      ]
    },
    {
      "cell_type": "code",
      "source": [
        "requested_topping = 'champiñones'\n",
        "\n",
        "if requested_topping != 'Anchoas':\n",
        "  print(\"Sostén las Anchoas!\")\n"
      ],
      "metadata": {
        "id": "4x_KuchGnhHR",
        "colab": {
          "base_uri": "https://localhost:8080/"
        },
        "outputId": "1df119cf-e1a7-40af-95c8-ef86f4461edd"
      },
      "execution_count": null,
      "outputs": [
        {
          "output_type": "stream",
          "name": "stdout",
          "text": [
            "Sostén las Anchoas!\n"
          ]
        }
      ]
    },
    {
      "cell_type": "markdown",
      "source": [
        "### Comparar Números"
      ],
      "metadata": {
        "id": "9hZEAyQNpIDq"
      }
    },
    {
      "cell_type": "code",
      "source": [
        "age = 18\n",
        "age == 18"
      ],
      "metadata": {
        "id": "TkAawBSMpHmN",
        "colab": {
          "base_uri": "https://localhost:8080/"
        },
        "outputId": "9d46de7d-3543-417b-fe6a-bca3e6e08a09"
      },
      "execution_count": null,
      "outputs": [
        {
          "output_type": "execute_result",
          "data": {
            "text/plain": [
              "True"
            ]
          },
          "metadata": {},
          "execution_count": 17
        }
      ]
    },
    {
      "cell_type": "code",
      "source": [
        "answer = 17\n",
        "\n",
        "if answer != 42:\n",
        "  print(\"Respuesta incorrecta, intenta nuevamente!\")"
      ],
      "metadata": {
        "id": "cuh3qVzEp14h",
        "colab": {
          "base_uri": "https://localhost:8080/"
        },
        "outputId": "65b63523-29e8-42e1-f9a5-af85fd0b8049"
      },
      "execution_count": null,
      "outputs": [
        {
          "output_type": "stream",
          "name": "stdout",
          "text": [
            "Respuesta incorrecta, intenta nuevamente!\n"
          ]
        }
      ]
    },
    {
      "cell_type": "code",
      "source": [
        "answer = int(input('Ingrese su respuesta: '))\n",
        "\n",
        "if answer != 42:\n",
        "  print(\"Respuesta incorrecta, intenta nuevamente!\")"
      ],
      "metadata": {
        "id": "Q8P2FyvworiB",
        "outputId": "f7a6b87c-2854-4cbb-8f49-6978fd9f4cc5",
        "colab": {
          "base_uri": "https://localhost:8080/"
        }
      },
      "execution_count": null,
      "outputs": [
        {
          "output_type": "stream",
          "name": "stdout",
          "text": [
            "Ingrese su respuesta: 26\n",
            "Respuesta incorrecta, intenta nuevamente!\n"
          ]
        }
      ]
    },
    {
      "cell_type": "code",
      "source": [
        "age = 19\n",
        "age < 21"
      ],
      "metadata": {
        "id": "BSGJ9oNEqCOj",
        "colab": {
          "base_uri": "https://localhost:8080/"
        },
        "outputId": "dd316f1d-65b7-4ba2-96a3-7fa5ba6cac29"
      },
      "execution_count": null,
      "outputs": [
        {
          "output_type": "execute_result",
          "data": {
            "text/plain": [
              "True"
            ]
          },
          "metadata": {},
          "execution_count": 26
        }
      ]
    },
    {
      "cell_type": "code",
      "source": [
        "age <= 21"
      ],
      "metadata": {
        "id": "wf3dMEHIqGh-",
        "colab": {
          "base_uri": "https://localhost:8080/"
        },
        "outputId": "08e53ea6-b16d-4dbf-a347-850a3ee27a3e"
      },
      "execution_count": null,
      "outputs": [
        {
          "output_type": "execute_result",
          "data": {
            "text/plain": [
              "True"
            ]
          },
          "metadata": {},
          "execution_count": 27
        }
      ]
    },
    {
      "cell_type": "code",
      "source": [
        "age > 21"
      ],
      "metadata": {
        "id": "ALtGWaW_qIEG",
        "colab": {
          "base_uri": "https://localhost:8080/"
        },
        "outputId": "7f9666d6-5fa0-43ee-fcd4-7e34cf623193"
      },
      "execution_count": null,
      "outputs": [
        {
          "output_type": "execute_result",
          "data": {
            "text/plain": [
              "False"
            ]
          },
          "metadata": {},
          "execution_count": 24
        }
      ]
    },
    {
      "cell_type": "code",
      "source": [
        "age >= 21"
      ],
      "metadata": {
        "id": "U-sv2_SKqJ3T",
        "colab": {
          "base_uri": "https://localhost:8080/"
        },
        "outputId": "2723c810-4e6b-4976-c373-c90c1165a003"
      },
      "execution_count": null,
      "outputs": [
        {
          "output_type": "execute_result",
          "data": {
            "text/plain": [
              "False"
            ]
          },
          "metadata": {},
          "execution_count": 25
        }
      ]
    },
    {
      "cell_type": "markdown",
      "source": [
        "### Condicionales múltiples"
      ],
      "metadata": {
        "id": "Ul7K_VXA69Hg"
      }
    },
    {
      "cell_type": "code",
      "source": [
        "age_0 = 22\n",
        "age_1 = 18\n",
        "age_0 >= 21 and age_1 >= 21"
      ],
      "metadata": {
        "id": "fPhw2J5U7Fgs",
        "colab": {
          "base_uri": "https://localhost:8080/"
        },
        "outputId": "f28a0077-0b63-4778-cebb-4d0434c80ff4"
      },
      "execution_count": null,
      "outputs": [
        {
          "output_type": "execute_result",
          "data": {
            "text/plain": [
              "False"
            ]
          },
          "metadata": {},
          "execution_count": 28
        }
      ]
    },
    {
      "cell_type": "code",
      "source": [
        "age_1 = 22\n",
        "age_0 >= 21 and age_1 >= 21"
      ],
      "metadata": {
        "id": "vxSjikcs7zkf",
        "colab": {
          "base_uri": "https://localhost:8080/"
        },
        "outputId": "c6b61fec-8c5a-43d0-9861-f99eb8cf8be1"
      },
      "execution_count": null,
      "outputs": [
        {
          "output_type": "execute_result",
          "data": {
            "text/plain": [
              "True"
            ]
          },
          "metadata": {},
          "execution_count": 30
        }
      ]
    },
    {
      "cell_type": "code",
      "source": [
        "(age_0 >= 21) and (age_1 >= 21)"
      ],
      "metadata": {
        "id": "4sdZ7nWN75LC",
        "colab": {
          "base_uri": "https://localhost:8080/"
        },
        "outputId": "3216b16a-444a-45ba-ff48-b3ef4a520a3f"
      },
      "execution_count": null,
      "outputs": [
        {
          "output_type": "execute_result",
          "data": {
            "text/plain": [
              "True"
            ]
          },
          "metadata": {},
          "execution_count": 31
        }
      ]
    },
    {
      "cell_type": "code",
      "source": [
        "age_0 = 22\n",
        "age_1 = 18\n",
        "age_0 >= 21 or age_1 >= 21"
      ],
      "metadata": {
        "id": "I_gV0j1n8NJA",
        "colab": {
          "base_uri": "https://localhost:8080/"
        },
        "outputId": "fba201c2-9103-43cc-bbf0-e527a65ece74"
      },
      "execution_count": null,
      "outputs": [
        {
          "output_type": "execute_result",
          "data": {
            "text/plain": [
              "True"
            ]
          },
          "metadata": {},
          "execution_count": 32
        }
      ]
    },
    {
      "cell_type": "code",
      "source": [
        "age_0 = 18\n",
        "age_0 >= 21 or age_1 >= 21"
      ],
      "metadata": {
        "id": "OutmfEzZ-9jQ",
        "colab": {
          "base_uri": "https://localhost:8080/"
        },
        "outputId": "22ff3787-f87d-4eac-b16a-4d0b3e1f1e64"
      },
      "execution_count": null,
      "outputs": [
        {
          "output_type": "execute_result",
          "data": {
            "text/plain": [
              "False"
            ]
          },
          "metadata": {},
          "execution_count": 33
        }
      ]
    },
    {
      "cell_type": "markdown",
      "source": [
        "### Comprobar si un valor está en una lista"
      ],
      "metadata": {
        "id": "DAVP6_vn_Gn2"
      }
    },
    {
      "cell_type": "code",
      "source": [
        "lenguages = ['R', 'Python', 'C']\n",
        "lenguages"
      ],
      "metadata": {
        "id": "BqPNTASrqwr9",
        "outputId": "154bb701-6a5f-4dac-f15e-802947c093e9",
        "colab": {
          "base_uri": "https://localhost:8080/"
        }
      },
      "execution_count": null,
      "outputs": [
        {
          "output_type": "execute_result",
          "data": {
            "text/plain": [
              "['R', 'Python', 'C']"
            ]
          },
          "metadata": {},
          "execution_count": 35
        }
      ]
    },
    {
      "cell_type": "code",
      "source": [
        "lenguages = ['R', 'Python', 'C']\n",
        "'Python' in lenguages"
      ],
      "metadata": {
        "id": "Hd3CcNr6_LRi",
        "colab": {
          "base_uri": "https://localhost:8080/"
        },
        "outputId": "abbae598-27d1-458e-808b-81cc95836114"
      },
      "execution_count": null,
      "outputs": [
        {
          "output_type": "execute_result",
          "data": {
            "text/plain": [
              "True"
            ]
          },
          "metadata": {},
          "execution_count": 36
        }
      ]
    },
    {
      "cell_type": "code",
      "source": [
        "'Java' in lenguages"
      ],
      "metadata": {
        "id": "gi6lorHh_PXp",
        "colab": {
          "base_uri": "https://localhost:8080/"
        },
        "outputId": "7c491435-5a09-494e-e4b0-569ee27aecc4"
      },
      "execution_count": null,
      "outputs": [
        {
          "output_type": "execute_result",
          "data": {
            "text/plain": [
              "False"
            ]
          },
          "metadata": {},
          "execution_count": 37
        }
      ]
    },
    {
      "cell_type": "markdown",
      "source": [
        "### Comprobar si un valor no está en una lista"
      ],
      "metadata": {
        "id": "izmw4aHktdm_"
      }
    },
    {
      "cell_type": "code",
      "source": [
        "banned_users = ['andrew', 'carolina', 'david']\n",
        "user = 'marie'\n",
        "\n",
        "if user not in banned_users:\n",
        "  print(f\"{user.title()}, no se encuentra en la lista de no deseados.\")"
      ],
      "metadata": {
        "id": "j46TpHdStrRZ",
        "colab": {
          "base_uri": "https://localhost:8080/"
        },
        "outputId": "d877ccf6-83a6-4d2d-d504-43653eb73f33"
      },
      "execution_count": null,
      "outputs": [
        {
          "output_type": "stream",
          "name": "stdout",
          "text": [
            "Marie, no se encuentra en la lista de no deseados.\n"
          ]
        }
      ]
    },
    {
      "cell_type": "code",
      "source": [
        "banned_users = ['andrew', 'carolina', 'david']\n",
        "user = str(input('Escriba su primer nombre '))\n",
        "\n",
        "if user not in banned_users:\n",
        "  print(f\"{user.title()}, no se encuentra en la lista de no deseados.\")"
      ],
      "metadata": {
        "id": "QdQVnRaurOSY",
        "outputId": "8c42bf1e-0e5f-487b-e6a2-dc26fc55e277",
        "colab": {
          "base_uri": "https://localhost:8080/"
        }
      },
      "execution_count": null,
      "outputs": [
        {
          "output_type": "stream",
          "name": "stdout",
          "text": [
            "Escriba su primer nombre ebert\n",
            "Ebert, no se encuentra en la lista de no deseados.\n"
          ]
        }
      ]
    },
    {
      "cell_type": "code",
      "source": [
        "a = int(input('escribe un número: '))"
      ],
      "metadata": {
        "id": "M8odBorDrs_P",
        "outputId": "a4bf04d8-25ca-40ba-ab2c-033b543346b4",
        "colab": {
          "base_uri": "https://localhost:8080/"
        }
      },
      "execution_count": null,
      "outputs": [
        {
          "name": "stdout",
          "output_type": "stream",
          "text": [
            "escribe un número: 15\n"
          ]
        }
      ]
    },
    {
      "cell_type": "code",
      "source": [
        "a"
      ],
      "metadata": {
        "id": "NkGEwRFJsLf_",
        "outputId": "068a3cf4-b291-4234-d0f4-6568e3b5df80",
        "colab": {
          "base_uri": "https://localhost:8080/"
        }
      },
      "execution_count": null,
      "outputs": [
        {
          "output_type": "execute_result",
          "data": {
            "text/plain": [
              "15"
            ]
          },
          "metadata": {},
          "execution_count": 41
        }
      ]
    },
    {
      "cell_type": "markdown",
      "source": [
        "### Condicionales"
      ],
      "metadata": {
        "id": "VuE2syKZt2yQ"
      }
    },
    {
      "cell_type": "code",
      "source": [
        "game_active = True\n",
        "can_edit = False"
      ],
      "metadata": {
        "id": "rQUWREUEt16h"
      },
      "execution_count": null,
      "outputs": []
    },
    {
      "cell_type": "code",
      "source": [
        "car = 'subaru'\n",
        "print(\"Is car == 'subaru'? I predict True.\")\n",
        "print(car == 'subaru')\n",
        "\n",
        "print(\"\\nIs car == 'audi'? I predict False.\")\n",
        "print(car == 'audi')"
      ],
      "metadata": {
        "id": "SBZqQdhluO0S",
        "outputId": "9dc099be-ac6b-41d9-857e-fe252250c10a",
        "colab": {
          "base_uri": "https://localhost:8080/"
        }
      },
      "execution_count": null,
      "outputs": [
        {
          "output_type": "stream",
          "name": "stdout",
          "text": [
            "Is car == 'subaru'? I predict True.\n",
            "True\n",
            "\n",
            "Is car == 'audi'? I predict False.\n",
            "False\n"
          ]
        }
      ]
    },
    {
      "cell_type": "markdown",
      "source": [
        "### Sentencias simples con IF"
      ],
      "metadata": {
        "id": "Ytw_L2R5mQlw"
      }
    },
    {
      "cell_type": "code",
      "source": [
        "age = 19\n",
        "if age >= 18:\n",
        "  print(\"Ya tienes edad suficiente para votar!\")"
      ],
      "metadata": {
        "id": "Ju_Xf1CqvTYk",
        "colab": {
          "base_uri": "https://localhost:8080/"
        },
        "outputId": "65a3881c-ca0c-44c8-da45-7662a61ab5d9"
      },
      "execution_count": null,
      "outputs": [
        {
          "output_type": "stream",
          "name": "stdout",
          "text": [
            "Ya tienes edad suficiente para votar!\n"
          ]
        }
      ]
    },
    {
      "cell_type": "code",
      "source": [
        "age = 19\n",
        "if age >= 18:\n",
        "  print(\"Ya tienes edad suficiente para votar!\")\n",
        "  print(\"Todavía no te has registrado?\")"
      ],
      "metadata": {
        "id": "adkHe7g5vj0R",
        "colab": {
          "base_uri": "https://localhost:8080/"
        },
        "outputId": "8f41e8cc-40f6-4425-df1a-754ae85ea9fb"
      },
      "execution_count": null,
      "outputs": [
        {
          "output_type": "stream",
          "name": "stdout",
          "text": [
            "Ya tienes edad suficiente para votar!\n",
            "Todavía no te has registrado?\n"
          ]
        }
      ]
    },
    {
      "cell_type": "markdown",
      "source": [
        "### Sentencias else-IF"
      ],
      "metadata": {
        "id": "V3FACa5Mv5vv"
      }
    },
    {
      "cell_type": "code",
      "source": [
        "age = 17\n",
        "if age >= 18:\n",
        "  print(\"Ya tienes edad suficiente para votar!\")\n",
        "  print(\"Todavía no te has registrado?\")\n",
        "else:\n",
        "  print(\"Lo sentimos, eres muy joven para votar!\")\n",
        "  print(\"Por favor registrate cuando cumplas 18!\")"
      ],
      "metadata": {
        "id": "_TU6P_Ehv5Pe",
        "colab": {
          "base_uri": "https://localhost:8080/"
        },
        "outputId": "1a0e31fc-b0b4-4bf5-f8f4-4f46c2c67411"
      },
      "execution_count": null,
      "outputs": [
        {
          "output_type": "stream",
          "name": "stdout",
          "text": [
            "Lo sentimos, eres muy joven para votar!\n",
            "Por favor registrate cuando cumplas 18!\n"
          ]
        }
      ]
    },
    {
      "cell_type": "code",
      "source": [
        "age = 12\n",
        "\n",
        "if age < 4:\n",
        "  print(\"Your admission cost is $0.\")\n",
        "elif age < 18:\n",
        "  print(\"Your admission cost is $25.\")\n",
        "else:\n",
        "  print(\"Your admission cost is $40.\")"
      ],
      "metadata": {
        "id": "_iVAhpxgwDeI",
        "colab": {
          "base_uri": "https://localhost:8080/"
        },
        "outputId": "6b167860-4b9c-40ea-ab03-be2ea2bab3b7"
      },
      "execution_count": null,
      "outputs": [
        {
          "output_type": "stream",
          "name": "stdout",
          "text": [
            "Your admission cost is $25.\n"
          ]
        }
      ]
    },
    {
      "cell_type": "code",
      "source": [
        "age = 12\n",
        "\n",
        "if age < 4:\n",
        "  price = 0\n",
        "elif age < 18:\n",
        "  price = 25\n",
        "else:\n",
        "  price = 40\n",
        "\n",
        "print(f\"Your admission cost is ${price}.\")\n"
      ],
      "metadata": {
        "id": "3t0oLWYh8nvN",
        "colab": {
          "base_uri": "https://localhost:8080/"
        },
        "outputId": "e3175e59-364c-4a57-8f0b-91c2fae02de4"
      },
      "execution_count": null,
      "outputs": [
        {
          "output_type": "stream",
          "name": "stdout",
          "text": [
            "Your admission cost is $25.\n"
          ]
        }
      ]
    },
    {
      "cell_type": "markdown",
      "source": [
        "### Múltiples bloques"
      ],
      "metadata": {
        "id": "J4M0xWQD85AW"
      }
    },
    {
      "cell_type": "code",
      "source": [
        "age = 12\n",
        "\n",
        "if age < 4:\n",
        "  price = 0\n",
        "elif age < 18:\n",
        "  price = 25\n",
        "elif age < 65:\n",
        "  price = 40\n",
        "else:\n",
        "  price = 20\n",
        "\n",
        "print(f\"Your admission cost is ${price}.\")"
      ],
      "metadata": {
        "id": "i8L7x2LEvz4Y",
        "colab": {
          "base_uri": "https://localhost:8080/"
        },
        "outputId": "00ba41d1-0284-4735-b1ac-1a2ae8c6bf81"
      },
      "execution_count": null,
      "outputs": [
        {
          "output_type": "stream",
          "name": "stdout",
          "text": [
            "Your admission cost is $25.\n"
          ]
        }
      ]
    },
    {
      "cell_type": "markdown",
      "source": [
        "### Ignorando el bloque else"
      ],
      "metadata": {
        "id": "JsTUAkF89QmD"
      }
    },
    {
      "cell_type": "code",
      "source": [
        "age = 12\n",
        "\n",
        "if age < 4:\n",
        "  price = 0\n",
        "elif age < 18:\n",
        "  price = 25\n",
        "elif age < 65:\n",
        "  price = 40\n",
        "elif age >= 65:\n",
        "  price = 20\n",
        "\n",
        "print(f\"Your admission cost is ${price}.\")\n"
      ],
      "metadata": {
        "id": "_nimoq4F9XHY",
        "colab": {
          "base_uri": "https://localhost:8080/"
        },
        "outputId": "a7966137-106c-4d0c-a7b2-63923db7aeba"
      },
      "execution_count": null,
      "outputs": [
        {
          "output_type": "stream",
          "name": "stdout",
          "text": [
            "Your admission cost is $25.\n"
          ]
        }
      ]
    },
    {
      "cell_type": "markdown",
      "source": [
        "### Probando múltiples condiciones"
      ],
      "metadata": {
        "id": "_8dO4jjn-Ga_"
      }
    },
    {
      "cell_type": "code",
      "source": [
        "requested_toppings = ['mushrooms', 'extra cheese']\n",
        "\n",
        "if 'mushrooms' in requested_toppings:\n",
        "  print(\"Adding mushrooms.\")\n",
        "if 'pepperoni' in requested_toppings:\n",
        "  print(\"Adding pepperoni.\")\n",
        "if 'extra cheese' in requested_toppings:\n",
        "  print(\"Adding extra cheese.\")\n",
        "\n",
        "print(\"\\nFinished making your pizza!\")"
      ],
      "metadata": {
        "id": "WVSk663p9qhJ",
        "colab": {
          "base_uri": "https://localhost:8080/"
        },
        "outputId": "e3ea569c-4415-4c4d-c616-1549be5f1f76"
      },
      "execution_count": null,
      "outputs": [
        {
          "output_type": "stream",
          "name": "stdout",
          "text": [
            "Adding mushrooms.\n",
            "Adding extra cheese.\n",
            "\n",
            "Finished making your pizza!\n"
          ]
        }
      ]
    },
    {
      "cell_type": "code",
      "execution_count": null,
      "metadata": {
        "id": "gfZbhzLN7ptc",
        "colab": {
          "base_uri": "https://localhost:8080/"
        },
        "outputId": "c371bf80-be55-4f66-965a-9e42bbbfabba"
      },
      "outputs": [
        {
          "output_type": "stream",
          "name": "stdout",
          "text": [
            "Ingrese el primer número: 7\n",
            "Ingrese el segundo número: 7\n",
            "Los numeros son iguales\n"
          ]
        }
      ],
      "source": [
        "num1 = float(input('Ingrese el primer número: '))\n",
        "num2 = float(input('Ingrese el segundo número: '))\n",
        "\n",
        "if num1 > num2:\n",
        "  print('num1 es mayor')\n",
        "elif num1 == num2:\n",
        "  print(\"Los numeros son iguales\")\n",
        "else:\n",
        "  print('num2 es mayor')"
      ]
    },
    {
      "cell_type": "markdown",
      "source": [
        "<b> Ejercicio 1</b>\n",
        "\n",
        "Imagina que un extraterrestre acaba de ser derribado en un juego. Cree una variable llamada alien_color y asígnele un valor de 'verde', 'amarillo' o 'rojo'.\n",
        "\n",
        "Escribe una declaración if para probar si el color del extraterrestre es verde. Si es así, imprime un mensaje de que el jugador acaba de ganar 5 puntos."
      ],
      "metadata": {
        "id": "Y-WZOmge-ddV"
      }
    },
    {
      "cell_type": "code",
      "source": [
        "alien_color = \"verde\"\n",
        "\n",
        "if \"verde\" == alien_color:\n",
        "  print(\"El jugador acaba de ganar 5 puntos\")\n"
      ],
      "metadata": {
        "colab": {
          "base_uri": "https://localhost:8080/"
        },
        "id": "QbjRIksOYbe-",
        "outputId": "7f57913a-7d27-4d8e-e2ad-10eb87eece6e"
      },
      "execution_count": null,
      "outputs": [
        {
          "output_type": "stream",
          "name": "stdout",
          "text": [
            "El jugador acaba de ganar 5 puntos\n"
          ]
        }
      ]
    },
    {
      "cell_type": "markdown",
      "source": [
        "<b> Ejercicio 2</b>\n",
        "\n",
        "Elija un color para un extraterrestre como lo hizo en el Ejercicio anterior y escriba una cadena if-else.\n",
        "\n",
        "Si el alienígena es verde, imprime un mensaje de que el jugador obtuvo 5 puntos.\n",
        "Si el alienígena es amarillo, imprime un mensaje de que el jugador obtuvo 10 puntos.\n",
        "Si el alienígena es rojo, imprime un mensaje de que el jugador obtuvo 15 puntos."
      ],
      "metadata": {
        "id": "fe2t6tUu-_sX"
      }
    },
    {
      "cell_type": "code",
      "source": [
        "c = input(\"Ingrese un color: \")\n",
        "\n",
        "if c == \"verde\":\n",
        "  print(\"El jugador obtuvo 5 puntos\")\n",
        "elif c == \"amarillo\":\n",
        "  print(\"El jugador obtuvo 10 puntos\")\n",
        "elif c == \"rojo\":\n",
        "  print(\"El jugador obtuvo 15 puntos\")\n",
        "else:\n",
        "  print(\"Respuesta no valida\")\n"
      ],
      "metadata": {
        "colab": {
          "base_uri": "https://localhost:8080/"
        },
        "id": "vGBhxIOBZeZM",
        "outputId": "8fd28fe9-da80-434f-c34d-5cc960f1c901"
      },
      "execution_count": null,
      "outputs": [
        {
          "output_type": "stream",
          "name": "stdout",
          "text": [
            "Ingrese un color: rojo\n",
            "El jugador obtuvo 15 puntos\n"
          ]
        }
      ]
    },
    {
      "cell_type": "markdown",
      "source": [
        "# Sentencias While"
      ],
      "metadata": {
        "id": "tQ7O2WPW_uWn"
      }
    },
    {
      "cell_type": "code",
      "source": [
        "current_number = 1\n",
        "while current_number <= 5:\n",
        "    print(current_number)\n",
        "    current_number += 1"
      ],
      "metadata": {
        "id": "FGmYSyUY9P1a",
        "outputId": "a4c3d0bb-1420-47f9-dfc7-a5eb136dc015",
        "colab": {
          "base_uri": "https://localhost:8080/"
        }
      },
      "execution_count": null,
      "outputs": [
        {
          "output_type": "stream",
          "name": "stdout",
          "text": [
            "1\n",
            "2\n",
            "3\n",
            "4\n",
            "5\n"
          ]
        }
      ]
    },
    {
      "cell_type": "code",
      "source": [
        "prompt = \"\\nDime algo y lo repetire:\"\n",
        "prompt += \"\\nEscribe 'quit' para finalizar. \"\n",
        "\n",
        "message = \"\"\n",
        "while message != 'salir':\n",
        "  message = input(prompt)\n",
        "  print(message)"
      ],
      "metadata": {
        "id": "cdDL7YMjCSIf",
        "outputId": "677432f3-3f1e-4e61-ea5b-1dc977b7bc76",
        "colab": {
          "base_uri": "https://localhost:8080/"
        }
      },
      "execution_count": 2,
      "outputs": [
        {
          "output_type": "stream",
          "name": "stdout",
          "text": [
            "\n",
            "Dime algo y lo repetire:\n",
            "Escribe 'quit' para finalizar. salir+\n",
            "salir+\n",
            "\n",
            "Dime algo y lo repetire:\n",
            "Escribe 'quit' para finalizar. salir\n",
            "salir\n"
          ]
        }
      ]
    },
    {
      "cell_type": "markdown",
      "source": [
        "### Usado una constante"
      ],
      "metadata": {
        "id": "2csEiLu2DJUI"
      }
    },
    {
      "cell_type": "code",
      "source": [
        "active = True\n",
        "\n",
        "while active:\n",
        "  message = input(prompt)\n",
        "\n",
        "  if message == 'salir':\n",
        "    active = False\n",
        "  else:\n",
        "    print(message)"
      ],
      "metadata": {
        "id": "8T4IvpXNDHgd",
        "outputId": "4b2d0e88-1301-44f6-8c01-d2c80fd0525a",
        "colab": {
          "base_uri": "https://localhost:8080/"
        }
      },
      "execution_count": 3,
      "outputs": [
        {
          "name": "stdout",
          "output_type": "stream",
          "text": [
            "\n",
            "Dime algo y lo repetire:\n",
            "Escribe 'quit' para finalizar. quit\n",
            "quit\n",
            "\n",
            "Dime algo y lo repetire:\n",
            "Escribe 'quit' para finalizar. salir\n"
          ]
        }
      ]
    },
    {
      "cell_type": "markdown",
      "source": [
        "### Break"
      ],
      "metadata": {
        "id": "n_eoK86YDid8"
      }
    },
    {
      "cell_type": "code",
      "source": [
        "while True:\n",
        "       city = input(\"Ingrese una ciudad: \")\n",
        "\n",
        "       if city == 'salir':\n",
        "           break\n",
        "       else:\n",
        "           print(f\"Me encantaría ir a {city}!\")"
      ],
      "metadata": {
        "id": "6Mu2Mu6EDn22",
        "colab": {
          "base_uri": "https://localhost:8080/"
        },
        "outputId": "47246aa2-20ea-417c-f21c-4be04425c441"
      },
      "execution_count": 4,
      "outputs": [
        {
          "name": "stdout",
          "output_type": "stream",
          "text": [
            "Ingrese una ciudad: lima\n",
            "Me encantaría ir a lima!\n",
            "Ingrese una ciudad: salir\n"
          ]
        }
      ]
    },
    {
      "cell_type": "code",
      "source": [
        "num = range(5)\n",
        "\n",
        "for i in num:\n",
        "  print(i)\n",
        "\n",
        "  if i == 3:\n",
        "    continue\n",
        "  print(i)"
      ],
      "metadata": {
        "id": "ZEpcDwkufhGG",
        "outputId": "83cdc6c6-211e-46e0-cda9-0ca4053c3a49",
        "colab": {
          "base_uri": "https://localhost:8080/"
        }
      },
      "execution_count": 10,
      "outputs": [
        {
          "output_type": "stream",
          "name": "stdout",
          "text": [
            "0\n",
            "0\n",
            "1\n",
            "1\n",
            "2\n",
            "2\n",
            "3\n",
            "4\n",
            "4\n"
          ]
        }
      ]
    },
    {
      "cell_type": "markdown",
      "source": [
        "### Continue"
      ],
      "metadata": {
        "id": "ritP2QOiD344"
      }
    },
    {
      "cell_type": "code",
      "source": [
        "current_number = 0\n",
        "\n",
        "while current_number < 10:\n",
        "  current_number += 1\n",
        "  if current_number % 2 == 0:\n",
        "    continue\n",
        "  print(current_number)"
      ],
      "metadata": {
        "id": "yYFFKYJwD74o",
        "outputId": "17414691-5bd5-408c-d4b3-bbdb958851c0",
        "colab": {
          "base_uri": "https://localhost:8080/"
        }
      },
      "execution_count": 11,
      "outputs": [
        {
          "output_type": "stream",
          "name": "stdout",
          "text": [
            "1\n",
            "3\n",
            "5\n",
            "7\n",
            "9\n"
          ]
        }
      ]
    },
    {
      "cell_type": "markdown",
      "source": [
        "### Evitando Loops infinitos"
      ],
      "metadata": {
        "id": "YHli8JqnEsX6"
      }
    },
    {
      "cell_type": "code",
      "source": [
        "x = 1\n",
        "while x <= 5:\n",
        "    print(x)\n",
        "    x += 1"
      ],
      "metadata": {
        "id": "Eof0p3NkExEN"
      },
      "execution_count": null,
      "outputs": []
    },
    {
      "cell_type": "code",
      "source": [
        "# This loop runs forever!\n",
        "x = 1\n",
        "while x <= 5:\n",
        "    print(x)"
      ],
      "metadata": {
        "id": "QxCazgC8E1A7"
      },
      "execution_count": null,
      "outputs": []
    },
    {
      "cell_type": "markdown",
      "source": [
        "<b> Ejercicio 1</b>\n",
        "\n",
        "Escriba un ciclo que solicite al usuario que ingrese una serie de ingredientes para la pizza hasta que ingrese un valor de 'salir'. A medida que ingresen cada ingrediente, imprima un mensaje que diga que agregará ese ingrediente a su pizza."
      ],
      "metadata": {
        "id": "NzzH8uoCFAMM"
      }
    },
    {
      "cell_type": "code",
      "source": [
        "prompt = \"\\nIngrese un ingrediente para su pizza: \"\n",
        "prompt += \"\\nEscribe 'salir' para finalizar. \"\n",
        "\n",
        "ingrediente = \"\"\n",
        "while ingrediente != 'salir':\n",
        "  ingrediente = input(prompt)\n",
        "  print(ingrediente)"
      ],
      "metadata": {
        "id": "kumQDfJN_9Xk"
      },
      "execution_count": null,
      "outputs": []
    },
    {
      "cell_type": "markdown",
      "source": [
        "<b> Ejercicio 2</b>\n",
        "\n",
        "Un cine cobra diferentes precios de boletos dependiendo de la edad de una persona. Si una persona es menor de 3 años, la entrada es gratuita; si son entre 3 y 12, el boleto cuesta s/. 10; y si son mayores de 12 años, el boleto cuesta s/. 15. Escriba un ciclo en el que pregunte a los usuarios su edad y luego dígales el costo de su boleto de cine."
      ],
      "metadata": {
        "id": "ATFL1LTaFDoF"
      }
    },
    {
      "cell_type": "code",
      "source": [
        "edad = int(input(\"Ingrese su edad : \"))\n",
        "\n",
        "if edad <= 3:\n",
        "  print(\"La entrada es gratuita\")\n",
        "elif edad < 12:\n",
        "  print(\"La entrada cuesta $ 10\")\n",
        "elif edad >= 12:\n",
        "  print(\"La entrada cuesta $ 15\")\n",
        "else:\n",
        "  print(\"ERROR al ingresar su edad\")\n"
      ],
      "metadata": {
        "id": "q1OlWAF28ynB"
      },
      "execution_count": null,
      "outputs": []
    },
    {
      "cell_type": "markdown",
      "source": [
        "# 3. Sentencia For"
      ],
      "metadata": {
        "id": "wGafafRIF6Bz"
      }
    },
    {
      "cell_type": "code",
      "source": [
        "magicians = ['alice', 'david', 'carolina']\n",
        "for magician in magicians:\n",
        "  print(f\"{magician.title()}, that was a great trick!\")"
      ],
      "metadata": {
        "id": "xh9IzPvpGddX",
        "colab": {
          "base_uri": "https://localhost:8080/"
        },
        "outputId": "24f87a26-0832-4ca5-de0c-2d6a5fcae96f"
      },
      "execution_count": 12,
      "outputs": [
        {
          "output_type": "stream",
          "name": "stdout",
          "text": [
            "Alice, that was a great trick!\n",
            "David, that was a great trick!\n",
            "Carolina, that was a great trick!\n"
          ]
        }
      ]
    },
    {
      "cell_type": "code",
      "source": [
        "magicians = ['alice', 'david', 'carolina']\n",
        "for magician in magicians:\n",
        "  print(f\"{magician.title()}, that was a great trick!\")\n",
        "  print(f\"I can't wait to see your next trick, {magician.title()}.\\n\")"
      ],
      "metadata": {
        "id": "iZaVoq2xGlt0",
        "outputId": "e5fdc843-2712-40d0-a855-93cb7f46fa52",
        "colab": {
          "base_uri": "https://localhost:8080/"
        }
      },
      "execution_count": 13,
      "outputs": [
        {
          "output_type": "stream",
          "name": "stdout",
          "text": [
            "Alice, that was a great trick!\n",
            "I can't wait to see your next trick, Alice.\n",
            "\n",
            "David, that was a great trick!\n",
            "I can't wait to see your next trick, David.\n",
            "\n",
            "Carolina, that was a great trick!\n",
            "I can't wait to see your next trick, Carolina.\n",
            "\n"
          ]
        }
      ]
    },
    {
      "cell_type": "code",
      "source": [
        "magicians = ['alice', 'david', 'carolina']\n",
        "\n",
        "for magician in magicians:\n",
        "    print(f\"{magician.title()}, that was a great trick!\")\n",
        "    print(f\"I can't wait to see your next trick, {magician.title()}.\\n\")\n",
        "\n",
        "print(\"Thank you, everyone. That was a great magic show!\")"
      ],
      "metadata": {
        "id": "_fm04h69G6nm",
        "outputId": "89b82c3b-b141-4843-c03d-8993f450252f",
        "colab": {
          "base_uri": "https://localhost:8080/"
        }
      },
      "execution_count": 14,
      "outputs": [
        {
          "output_type": "stream",
          "name": "stdout",
          "text": [
            "Alice, that was a great trick!\n",
            "I can't wait to see your next trick, Alice.\n",
            "\n",
            "David, that was a great trick!\n",
            "I can't wait to see your next trick, David.\n",
            "\n",
            "Carolina, that was a great trick!\n",
            "I can't wait to see your next trick, Carolina.\n",
            "\n",
            "Thank you, everyone. That was a great magic show!\n"
          ]
        }
      ]
    },
    {
      "cell_type": "code",
      "source": [
        "for n in range(50):\n",
        "  print(n)\n",
        "  if n == 40:\n",
        "   break"
      ],
      "metadata": {
        "id": "IP1Tdx4AvQFY"
      },
      "execution_count": null,
      "outputs": []
    },
    {
      "cell_type": "code",
      "source": [
        "for n in range(10):\n",
        "  print(n)\n",
        "  if n == 6:\n",
        "   continue\n",
        "  print(n)"
      ],
      "metadata": {
        "id": "PM4LhYT9vP1P"
      },
      "execution_count": null,
      "outputs": []
    },
    {
      "cell_type": "markdown",
      "source": [
        "### Olvidando la identación"
      ],
      "metadata": {
        "id": "C1qC64EEHDM-"
      }
    },
    {
      "cell_type": "code",
      "source": [
        "magicians = ['alice', 'david', 'carolina']\n",
        "for magician in magicians:\n",
        "print(magician)"
      ],
      "metadata": {
        "id": "eZ2wML7nHH5i",
        "outputId": "9840bc31-6102-4fc9-b041-8f9beddb7cfa",
        "colab": {
          "base_uri": "https://localhost:8080/",
          "height": 130
        }
      },
      "execution_count": 17,
      "outputs": [
        {
          "output_type": "error",
          "ename": "IndentationError",
          "evalue": "ignored",
          "traceback": [
            "\u001b[0;36m  File \u001b[0;32m\"<ipython-input-17-bc3e0c643e2b>\"\u001b[0;36m, line \u001b[0;32m3\u001b[0m\n\u001b[0;31m    print(magician)\u001b[0m\n\u001b[0m        ^\u001b[0m\n\u001b[0;31mIndentationError\u001b[0m\u001b[0;31m:\u001b[0m expected an indented block\n"
          ]
        }
      ]
    },
    {
      "cell_type": "markdown",
      "source": [
        "<b> Ejercicio 1</b>\n",
        "\n",
        "\n",
        "Piensa en al menos tres tipos de tu pizza favorita. Almacene estos nombres de pizza en una lista y luego use un ciclo for para imprimir el nombre de cada pizza.\n",
        "\n",
        "Modifique su ciclo for para imprimir una oración usando el nombre de la pizza en lugar de imprimir solo el nombre de la pizza. Para cada pizza, debe tener una línea de salida que contenga una declaración simple como Me gusta la pizza de pepperoni.\n",
        "Agregue una línea al final de su programa, fuera del bucle for, que indique cuánto le gusta la pizza. El resultado debe constar de tres o más líneas sobre los tipos de pizza que te gustan y luego una oración adicional, como ¡Me encanta la pizza!\n"
      ],
      "metadata": {
        "id": "FHwT_HI5Hedh"
      }
    },
    {
      "cell_type": "code",
      "source": [
        "pizzas = [\"pizza peperoni\", \"pizza con champiñones\", \"pizza hawaiana\"]\n",
        "\n",
        "for pizza in pizzas:\n",
        "  print(pizza)\n",
        "\n",
        "for pizza in pizzas:\n",
        "  print(f\"\\nMe gusta la {pizza}\")\n",
        "\n",
        "print(\"\\n¡Me gusta la pizza!\")"
      ],
      "metadata": {
        "colab": {
          "base_uri": "https://localhost:8080/"
        },
        "id": "hwd_Dz6uLr5C",
        "outputId": "6e15c2af-761a-41c7-c748-fa7bfa47df55"
      },
      "execution_count": 25,
      "outputs": [
        {
          "output_type": "stream",
          "name": "stdout",
          "text": [
            "pizza peperoni\n",
            "pizza con champiñones\n",
            "pizza hawaiana\n",
            "\n",
            "Me gusta la pizza peperoni\n",
            "\n",
            "Me gusta la pizza con champiñones\n",
            "\n",
            "Me gusta la pizza hawaiana\n",
            "\n",
            "¡Me gusta la pizza!\n"
          ]
        }
      ]
    },
    {
      "cell_type": "markdown",
      "source": [
        "<b> Ejercicio 2</b>\n",
        "\n",
        "Piensa en al menos tres animales diferentes que tengan una característica común. Guarde los nombres de estos animales en una lista y luego use un ciclo for para imprimir el nombre de cada animal.\n",
        "\n",
        "Modifique su programa para imprimir una declaración sobre cada animal, como Un perro sería una gran mascota.\n",
        "Agregue una línea al final de su programa indicando lo que estos animales tienen en común. Podría escribir una oración como ¡Cualquiera de estos animales sería una gran mascota!"
      ],
      "metadata": {
        "id": "CBNrK6wXHnEm"
      }
    },
    {
      "cell_type": "code",
      "source": [
        "animales = [\"gato\", \"perro\", \"conejo\"]\n",
        "\n",
        "for animal in animales:\n",
        "  print(animal)\n",
        "\n",
        "for animal in animales:\n",
        "  if animal == \"gato\":\n",
        "    print(f\"\\nUn {animal} es muy agil\")\n",
        "  elif animal == \"conejo\":\n",
        "    print(f\"\\nUn {animal} tiene unas orejas largas\")\n",
        "  elif animal == \"perro\":\n",
        "    print(f\"\\nUn {animal} es uno de los animales domesticos mas antiguos del mundo\")\n",
        "\n",
        "print(\"\\n¡Cualquiera de estos animales sería una gran mascota!\")"
      ],
      "metadata": {
        "id": "OoZlE5SEOeUG",
        "outputId": "ecdab517-11ff-4aa6-c59f-2648f8964a8e",
        "colab": {
          "base_uri": "https://localhost:8080/"
        }
      },
      "execution_count": 22,
      "outputs": [
        {
          "output_type": "stream",
          "name": "stdout",
          "text": [
            "gato\n",
            "perro\n",
            "conejo\n",
            "\n",
            "Un gato es muy agil\n",
            "\n",
            "Un perro es uno de los animales domesticos mas antiguos del mundo\n",
            "\n",
            "Un conejo tiene unas orejas largas\n",
            "\n",
            "¡Cualquiera de estos animales sería una gran mascota!\n"
          ]
        }
      ]
    },
    {
      "cell_type": "markdown",
      "source": [
        "---\n",
        "\n",
        "# Gracias por completar este laboratorio!\n",
        "\n",
        "---\n"
      ],
      "metadata": {
        "id": "Z8TPfkHyH_D5"
      }
    }
  ]
}