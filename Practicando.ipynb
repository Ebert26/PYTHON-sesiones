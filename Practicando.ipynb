{
  "nbformat": 4,
  "nbformat_minor": 0,
  "metadata": {
    "colab": {
      "provenance": [],
      "authorship_tag": "ABX9TyP1Bky7ulVnJBimWtIPa2qo",
      "include_colab_link": true
    },
    "kernelspec": {
      "name": "python3",
      "display_name": "Python 3"
    },
    "language_info": {
      "name": "python"
    }
  },
  "cells": [
    {
      "cell_type": "markdown",
      "metadata": {
        "id": "view-in-github",
        "colab_type": "text"
      },
      "source": [
        "<a href=\"https://colab.research.google.com/github/Ebert26/PYTHON-sesiones/blob/main/Practicando.ipynb\" target=\"_parent\"><img src=\"https://colab.research.google.com/assets/colab-badge.svg\" alt=\"Open In Colab\"/></a>"
      ]
    },
    {
      "cell_type": "code",
      "execution_count": null,
      "metadata": {
        "colab": {
          "base_uri": "https://localhost:8080/"
        },
        "id": "TBRpkLAC0qYD",
        "outputId": "cd9f0e93-e85a-4680-d02c-e7d7558dcfa1"
      },
      "outputs": [
        {
          "output_type": "stream",
          "name": "stdout",
          "text": [
            "\\Hola mundo\n"
          ]
        }
      ],
      "source": [
        "print(\"\\Hola mundo\")"
      ]
    },
    {
      "cell_type": "code",
      "source": [
        "print(\"\\n\\n\\n Hola mundo\")"
      ],
      "metadata": {
        "id": "nIsZNU4t1jZT"
      },
      "execution_count": null,
      "outputs": []
    },
    {
      "cell_type": "code",
      "source": [
        "favorite_language = 'python '\n",
        "print(f\"{favorite_language}\")"
      ],
      "metadata": {
        "colab": {
          "base_uri": "https://localhost:8080/"
        },
        "id": "ATUb5eml1s4e",
        "outputId": "458a92e9-c87c-4d74-ac3d-122882f02030"
      },
      "execution_count": null,
      "outputs": [
        {
          "output_type": "stream",
          "name": "stdout",
          "text": [
            "python \n"
          ]
        }
      ]
    },
    {
      "cell_type": "code",
      "source": [
        "favorite_language"
      ],
      "metadata": {
        "colab": {
          "base_uri": "https://localhost:8080/",
          "height": 35
        },
        "id": "eRxbyyU43f-k",
        "outputId": "c4c743d0-a6e0-44b0-a3ef-c51ce086a3e9"
      },
      "execution_count": null,
      "outputs": [
        {
          "output_type": "execute_result",
          "data": {
            "text/plain": [
              "'python '"
            ],
            "application/vnd.google.colaboratory.intrinsic+json": {
              "type": "string"
            }
          },
          "metadata": {},
          "execution_count": 14
        }
      ]
    },
    {
      "cell_type": "code",
      "source": [
        "favorite_language.rstrip()"
      ],
      "metadata": {
        "colab": {
          "base_uri": "https://localhost:8080/",
          "height": 35
        },
        "id": "JYIEyA6r2QA2",
        "outputId": "1ad9a366-d267-4af5-f159-c782cd651c50"
      },
      "execution_count": null,
      "outputs": [
        {
          "output_type": "execute_result",
          "data": {
            "text/plain": [
              "'python'"
            ],
            "application/vnd.google.colaboratory.intrinsic+json": {
              "type": "string"
            }
          },
          "metadata": {},
          "execution_count": 11
        }
      ]
    },
    {
      "cell_type": "code",
      "source": [
        "name = ' Mateo '"
      ],
      "metadata": {
        "id": "9wXjfrQV3pWe"
      },
      "execution_count": null,
      "outputs": []
    },
    {
      "cell_type": "code",
      "source": [
        "name"
      ],
      "metadata": {
        "colab": {
          "base_uri": "https://localhost:8080/",
          "height": 35
        },
        "id": "XWrlVcsG4ew3",
        "outputId": "fd4885f3-6265-4d6f-cbbc-86e2c34bbaaf"
      },
      "execution_count": null,
      "outputs": [
        {
          "output_type": "execute_result",
          "data": {
            "text/plain": [
              "' Mateo '"
            ],
            "application/vnd.google.colaboratory.intrinsic+json": {
              "type": "string"
            }
          },
          "metadata": {},
          "execution_count": 18
        }
      ]
    },
    {
      "cell_type": "code",
      "source": [
        "name.strip()"
      ],
      "metadata": {
        "colab": {
          "base_uri": "https://localhost:8080/",
          "height": 35
        },
        "id": "Uqr7Ldbt4gef",
        "outputId": "ae6281ba-bb84-4b76-ccc2-9daf135f50d3"
      },
      "execution_count": null,
      "outputs": [
        {
          "output_type": "execute_result",
          "data": {
            "text/plain": [
              "'Mateo'"
            ],
            "application/vnd.google.colaboratory.intrinsic+json": {
              "type": "string"
            }
          },
          "metadata": {},
          "execution_count": 21
        }
      ]
    },
    {
      "cell_type": "code",
      "source": [
        "520046406\n"
      ],
      "metadata": {
        "colab": {
          "base_uri": "https://localhost:8080/"
        },
        "id": "5AKbDxHw7RrR",
        "outputId": "b41cc6dd-285b-411e-be8f-5d71e75887a9"
      },
      "execution_count": null,
      "outputs": [
        {
          "output_type": "execute_result",
          "data": {
            "text/plain": [
              "520046406"
            ]
          },
          "metadata": {},
          "execution_count": 22
        }
      ]
    },
    {
      "cell_type": "code",
      "source": [
        "5_005_410_593"
      ],
      "metadata": {
        "colab": {
          "base_uri": "https://localhost:8080/"
        },
        "id": "WVdl8KSy7WAi",
        "outputId": "c86ce3f0-7efc-428a-e93d-0d41412e6240"
      },
      "execution_count": null,
      "outputs": [
        {
          "output_type": "execute_result",
          "data": {
            "text/plain": [
              "5005410593"
            ]
          },
          "metadata": {},
          "execution_count": 23
        }
      ]
    },
    {
      "cell_type": "code",
      "source": [
        "\"\"\"Asignacion multiple\"\"\"\n",
        "\n",
        "a, b, c = 1, 2, 4"
      ],
      "metadata": {
        "id": "SQo3pDa87aNq"
      },
      "execution_count": null,
      "outputs": []
    },
    {
      "cell_type": "code",
      "source": [
        "a"
      ],
      "metadata": {
        "colab": {
          "base_uri": "https://localhost:8080/"
        },
        "id": "DDt8xCSM7tFS",
        "outputId": "9a644d09-1cde-40c2-f90d-5a9d1bffcfee"
      },
      "execution_count": null,
      "outputs": [
        {
          "output_type": "execute_result",
          "data": {
            "text/plain": [
              "1"
            ]
          },
          "metadata": {},
          "execution_count": 25
        }
      ]
    },
    {
      "cell_type": "code",
      "source": [
        "c"
      ],
      "metadata": {
        "colab": {
          "base_uri": "https://localhost:8080/"
        },
        "id": "tgrRLGLU7uO3",
        "outputId": "59e37675-d90d-4fe9-fcac-44c8e0f8150f"
      },
      "execution_count": null,
      "outputs": [
        {
          "output_type": "execute_result",
          "data": {
            "text/plain": [
              "4"
            ]
          },
          "metadata": {},
          "execution_count": 26
        }
      ]
    },
    {
      "cell_type": "code",
      "source": [
        "b"
      ],
      "metadata": {
        "colab": {
          "base_uri": "https://localhost:8080/"
        },
        "id": "1Yqo6Dc67vOY",
        "outputId": "f90e87c0-f0c7-4fc2-ab52-480c9d29f601"
      },
      "execution_count": null,
      "outputs": [
        {
          "output_type": "execute_result",
          "data": {
            "text/plain": [
              "2"
            ]
          },
          "metadata": {},
          "execution_count": 28
        }
      ]
    },
    {
      "cell_type": "code",
      "source": [
        "\"\"\"Numero de segundos\"\"\"\n",
        "\n",
        "a = int(input(\"Digite el numero de horas: \"))\n",
        "b = int(input(\"Digite el numero de minutos: \"))\n",
        "c = int(input(\"Digite el numero de segundos: \"))\n",
        "\n",
        "R = (3600*a)+(60*b)+c;\n",
        "\n",
        "print(f\"\\n Numeros de segundos: {R}\")"
      ],
      "metadata": {
        "colab": {
          "base_uri": "https://localhost:8080/"
        },
        "id": "1015daHp7yZQ",
        "outputId": "d018829f-74c8-4d82-d51e-b2d47ae1858c"
      },
      "execution_count": 37,
      "outputs": [
        {
          "output_type": "stream",
          "name": "stdout",
          "text": [
            "Digite el numero de horas: 1\n",
            "Digite el numero de minutos: 1\n",
            "Digite el numero de segundos: 1\n",
            "\n",
            " Numeros de segundos: 3661\n"
          ]
        }
      ]
    },
    {
      "cell_type": "code",
      "source": [
        "a"
      ],
      "metadata": {
        "id": "-X0vvnK5_nE6",
        "colab": {
          "base_uri": "https://localhost:8080/"
        },
        "outputId": "e1707ff6-6b29-4431-d456-cd6f79cdf417"
      },
      "execution_count": 38,
      "outputs": [
        {
          "output_type": "execute_result",
          "data": {
            "text/plain": [
              "1"
            ]
          },
          "metadata": {},
          "execution_count": 38
        }
      ]
    },
    {
      "cell_type": "code",
      "source": [
        "type(a)"
      ],
      "metadata": {
        "colab": {
          "base_uri": "https://localhost:8080/"
        },
        "id": "mLWn9sfTV4XF",
        "outputId": "99186921-74b0-4b32-f7e6-93e8c0d34398"
      },
      "execution_count": 39,
      "outputs": [
        {
          "output_type": "execute_result",
          "data": {
            "text/plain": [
              "int"
            ]
          },
          "metadata": {},
          "execution_count": 39
        }
      ]
    },
    {
      "cell_type": "code",
      "source": [
        "0.1+0.1\n"
      ],
      "metadata": {
        "colab": {
          "base_uri": "https://localhost:8080/"
        },
        "id": "dsXKrv0OWLZd",
        "outputId": "f3e97089-d1c8-49e8-b6a7-b96ef11ce546"
      },
      "execution_count": 44,
      "outputs": [
        {
          "output_type": "execute_result",
          "data": {
            "text/plain": [
              "0.2"
            ]
          },
          "metadata": {},
          "execution_count": 44
        }
      ]
    },
    {
      "cell_type": "code",
      "source": [
        "#prueba\n",
        "\n",
        "print(\"\\nHola\\nprogramadores\\nde\\npython\")"
      ],
      "metadata": {
        "colab": {
          "base_uri": "https://localhost:8080/"
        },
        "id": "MucCbu1Tbevn",
        "outputId": "d5c6ddbb-b1e5-4480-827f-32cc87d01e30"
      },
      "execution_count": 45,
      "outputs": [
        {
          "output_type": "stream",
          "name": "stdout",
          "text": [
            "\n",
            "Hola\n",
            "programadores\n",
            "de\n",
            "python\n"
          ]
        }
      ]
    },
    {
      "cell_type": "code",
      "source": [
        "1 == 2\n"
      ],
      "metadata": {
        "colab": {
          "base_uri": "https://localhost:8080/"
        },
        "id": "ZL9qa04Ib0Bg",
        "outputId": "9ad09f41-d082-4e93-b3e6-db34ee1aa00a"
      },
      "execution_count": 47,
      "outputs": [
        {
          "output_type": "execute_result",
          "data": {
            "text/plain": [
              "False"
            ]
          },
          "metadata": {},
          "execution_count": 47
        }
      ]
    },
    {
      "cell_type": "code",
      "source": [
        "2 == 2"
      ],
      "metadata": {
        "colab": {
          "base_uri": "https://localhost:8080/"
        },
        "id": "j0XVAaisc75Q",
        "outputId": "52a60ff1-4b15-4fd2-e13b-f638d3d43aed"
      },
      "execution_count": 48,
      "outputs": [
        {
          "output_type": "execute_result",
          "data": {
            "text/plain": [
              "True"
            ]
          },
          "metadata": {},
          "execution_count": 48
        }
      ]
    },
    {
      "cell_type": "code",
      "source": [
        "car = 'black '\n",
        "car.strip() == 'black'"
      ],
      "metadata": {
        "colab": {
          "base_uri": "https://localhost:8080/"
        },
        "id": "xsNr3TEYc_7s",
        "outputId": "106bd517-76a0-4c79-d23a-db22af588b43"
      },
      "execution_count": 51,
      "outputs": [
        {
          "output_type": "execute_result",
          "data": {
            "text/plain": [
              "True"
            ]
          },
          "metadata": {},
          "execution_count": 51
        }
      ]
    },
    {
      "cell_type": "code",
      "source": [
        "(1+1)!=2"
      ],
      "metadata": {
        "colab": {
          "base_uri": "https://localhost:8080/"
        },
        "id": "HseHUS-1dhFd",
        "outputId": "41d03196-f4d8-40f6-8096-2c47eb601de0"
      },
      "execution_count": 53,
      "outputs": [
        {
          "output_type": "execute_result",
          "data": {
            "text/plain": [
              "False"
            ]
          },
          "metadata": {},
          "execution_count": 53
        }
      ]
    },
    {
      "cell_type": "code",
      "source": [
        "n = 7\n",
        "m = 9\n",
        "\n",
        "if n > 6:\n",
        "  n = n + 1\n",
        "\n",
        "m = 3*m\n",
        "\n",
        "print(n, m)"
      ],
      "metadata": {
        "colab": {
          "base_uri": "https://localhost:8080/"
        },
        "id": "6hEd9TfFd391",
        "outputId": "1e74aa31-865c-4de7-b341-76fe5839f75d"
      },
      "execution_count": 57,
      "outputs": [
        {
          "output_type": "stream",
          "name": "stdout",
          "text": [
            "8 27\n"
          ]
        }
      ]
    },
    {
      "cell_type": "code",
      "source": [
        "t = 6\n",
        "u = 9\n",
        "\n",
        "if t > 6:\n",
        "  t = t - 1\n",
        "else:\n",
        "  t = t/2\n",
        "\n",
        "u = u**2\n",
        "\n",
        "print(t, u)"
      ],
      "metadata": {
        "colab": {
          "base_uri": "https://localhost:8080/"
        },
        "id": "-JGguG9bfWII",
        "outputId": "08a2431f-584b-456f-9f92-b69e5e3c0c8e"
      },
      "execution_count": 61,
      "outputs": [
        {
          "output_type": "stream",
          "name": "stdout",
          "text": [
            "3.0 81\n"
          ]
        }
      ]
    },
    {
      "cell_type": "code",
      "source": [
        "a = [\"uno\", \"dos\", \"tres\"]\n",
        "a"
      ],
      "metadata": {
        "colab": {
          "base_uri": "https://localhost:8080/"
        },
        "id": "6gAPhTK4neZ2",
        "outputId": "08db6dc9-a4fb-4a23-f1a4-00989e02cc73"
      },
      "execution_count": 62,
      "outputs": [
        {
          "output_type": "execute_result",
          "data": {
            "text/plain": [
              "['uno', 'dos', 'tres']"
            ]
          },
          "metadata": {},
          "execution_count": 62
        }
      ]
    },
    {
      "cell_type": "code",
      "source": [
        "\"uno\" in a"
      ],
      "metadata": {
        "colab": {
          "base_uri": "https://localhost:8080/"
        },
        "id": "mfZwVBcCoTs2",
        "outputId": "07a744f5-7a77-4cd5-a96d-d71e11534bd9"
      },
      "execution_count": 63,
      "outputs": [
        {
          "output_type": "execute_result",
          "data": {
            "text/plain": [
              "True"
            ]
          },
          "metadata": {},
          "execution_count": 63
        }
      ]
    },
    {
      "cell_type": "code",
      "source": [
        "\"tres\" in a"
      ],
      "metadata": {
        "colab": {
          "base_uri": "https://localhost:8080/"
        },
        "id": "UBOU2Tw9oe8X",
        "outputId": "1daa8930-ddac-4347-8bc9-4f1535a88b85"
      },
      "execution_count": 64,
      "outputs": [
        {
          "output_type": "execute_result",
          "data": {
            "text/plain": [
              "True"
            ]
          },
          "metadata": {},
          "execution_count": 64
        }
      ]
    },
    {
      "cell_type": "code",
      "source": [
        "num1 = int(input(\"Digite su edad: \"))\n",
        "num2 = int(input(\"Digite su edad: \"))\n",
        "\n",
        "if num1 > num2:\n",
        "  print(f\"{num1} es mayor que {num2}\")\n",
        "elif num1 == num2:\n",
        "  print(f\"{num1} es igual que {num2}\")\n",
        "else:  \n",
        "  print(f\"\\n->{num1} es menor que {num2}\")"
      ],
      "metadata": {
        "id": "hOFvJfYQ4Qje"
      },
      "execution_count": null,
      "outputs": []
    }
  ]
}