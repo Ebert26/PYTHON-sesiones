{
  "nbformat": 4,
  "nbformat_minor": 0,
  "metadata": {
    "colab": {
      "name": "Untitled0.ipynb",
      "provenance": [],
      "authorship_tag": "ABX9TyNlrXEDgv1HTSQMVGozmFV6",
      "include_colab_link": true
    },
    "kernelspec": {
      "name": "python3",
      "display_name": "Python 3"
    },
    "language_info": {
      "name": "python"
    }
  },
  "cells": [
    {
      "cell_type": "markdown",
      "metadata": {
        "id": "view-in-github",
        "colab_type": "text"
      },
      "source": [
        "<a href=\"https://colab.research.google.com/github/Ebert26/PYTHON-sesiones/blob/main/Untitled0.ipynb\" target=\"_parent\"><img src=\"https://colab.research.google.com/assets/colab-badge.svg\" alt=\"Open In Colab\"/></a>"
      ]
    },
    {
      "cell_type": "code",
      "execution_count": 1,
      "metadata": {
        "colab": {
          "base_uri": "https://localhost:8080/"
        },
        "id": "lxGBn5Rk3k_i",
        "outputId": "85a78c3d-7a12-48af-f60d-b768e93ecce6"
      },
      "outputs": [
        {
          "output_type": "stream",
          "name": "stdout",
          "text": [
            "20 9\n"
          ]
        }
      ],
      "source": [
        "n = 8\n",
        "m = 10\n",
        "\n",
        "if n > 5:\n",
        "  n = n + 1\n",
        "\n",
        "m = m*2\n",
        "\n",
        "print(m, n)"
      ]
    },
    {
      "cell_type": "code",
      "source": [
        "n = 10\n",
        "m = 10\n",
        "\n",
        "if n > 8:\n",
        "  n = n + 1\n",
        "else:\n",
        "  n = 2*n\n",
        "\n",
        "m = m*10\n",
        "\n",
        "print(m, n)"
      ],
      "metadata": {
        "colab": {
          "base_uri": "https://localhost:8080/"
        },
        "id": "TZZYQOdU4b5D",
        "outputId": "4234f217-a0e1-4839-86d7-ed2fe7cf4918"
      },
      "execution_count": 3,
      "outputs": [
        {
          "output_type": "stream",
          "name": "stdout",
          "text": [
            "100 11\n"
          ]
        }
      ]
    },
    {
      "cell_type": "code",
      "source": [
        "n = -3\n",
        "m = 8\n",
        "\n",
        "if n > 8:\n",
        "  n = n + 1\n",
        "elif n > 5:\n",
        "  n = 2*n\n",
        "else:\n",
        "  n = n + 3\n",
        "\n",
        "m = m*10\n",
        "\n",
        "print(m, n)"
      ],
      "metadata": {
        "colab": {
          "base_uri": "https://localhost:8080/"
        },
        "id": "kekk1l90604k",
        "outputId": "2e5cfd49-10cb-40e7-eecb-3b717d66ad0c"
      },
      "execution_count": 5,
      "outputs": [
        {
          "output_type": "stream",
          "name": "stdout",
          "text": [
            "80 0\n"
          ]
        }
      ]
    },
    {
      "cell_type": "code",
      "source": [
        ""
      ],
      "metadata": {
        "id": "6d87328b7OAp"
      },
      "execution_count": null,
      "outputs": []
    }
  ]
}